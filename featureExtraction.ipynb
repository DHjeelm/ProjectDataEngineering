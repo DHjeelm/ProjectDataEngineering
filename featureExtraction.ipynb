{
 "cells": [
  {
   "cell_type": "code",
   "execution_count": 2,
   "metadata": {},
   "outputs": [
    {
     "name": "stderr",
     "output_type": "stream",
     "text": [
      "Using Spark's default log4j profile: org/apache/spark/log4j-defaults.properties\n",
      "Setting default log level to \"WARN\".\n",
      "To adjust logging level use sc.setLogLevel(newLevel). For SparkR, use setLogLevel(newLevel).\n",
      "22/03/02 14:05:32 WARN NativeCodeLoader: Unable to load native-hadoop library for your platform... using builtin-java classes where applicable\n",
      "22/03/02 14:05:34 WARN ExecutorAllocationManager: Dynamic allocation without a shuffle service is an experimental feature.\n"
     ]
    }
   ],
   "source": [
    "from pyspark.sql import SparkSession\n",
    "from operator import add\n",
    "\n",
    "# New API\n",
    "spark_session = SparkSession\\\n",
    "        .builder\\\n",
    "        .master(\"spark://192.168.2.218:7077\") \\\n",
    "        .appName(\"Daniel_Hjelm_Test\")\\\n",
    "        .config(\"spark.executor.cores\",1)\\\n",
    "        .config(\"spark.dynamicAllocation.enabled\", True)\\\n",
    "        .config(\"spark.dynamicAllocation.shuffleTracking.enabled\", True)\\\n",
    "        .config(\"spark.shuffle.service.enabled\", False)\\\n",
    "        .config(\"spark.dynamicAllocation.executorIdleTimeout\",\"30s\")\\\n",
    "        .config(\"spark.driver.port\",9998)\\\n",
    "        .config(\"spark.blockManager.port\",10005)\\\n",
    "        .getOrCreate()\n",
    "\n",
    "spark_context = spark_session.sparkContext\n",
    "\n",
    "spark_context.setLogLevel(\"INFO\")"
   ]
  },
  {
   "cell_type": "code",
   "execution_count": 12,
   "metadata": {},
   "outputs": [
    {
     "name": "stderr",
     "output_type": "stream",
     "text": [
      "22/03/02 14:36:53 INFO InMemoryFileIndex: It took 141 ms to list leaf files for 1 paths.\n",
      "22/03/02 14:36:53 INFO InMemoryFileIndex: It took 9 ms to list leaf files for 1 paths.\n",
      "22/03/02 14:36:57 INFO FileSourceStrategy: Pushed Filters: \n",
      "22/03/02 14:36:57 INFO FileSourceStrategy: Post-Scan Filters: (length(trim(value#0, None)) > 0)\n",
      "22/03/02 14:36:57 INFO FileSourceStrategy: Output Data Schema: struct<value: string>\n",
      "22/03/02 14:36:58 INFO CodeGenerator: Code generated in 339.356397 ms\n",
      "22/03/02 14:36:58 INFO MemoryStore: Block broadcast_0 stored as values in memory (estimated size 339.6 KiB, free 366.0 MiB)\n",
      "22/03/02 14:36:58 INFO MemoryStore: Block broadcast_0_piece0 stored as bytes in memory (estimated size 32.8 KiB, free 365.9 MiB)\n",
      "22/03/02 14:36:58 INFO BlockManagerInfo: Added broadcast_0_piece0 in memory on host-192-168-2-8-de1:10005 (size: 32.8 KiB, free: 366.3 MiB)\n",
      "22/03/02 14:36:58 INFO SparkContext: Created broadcast 0 from csv at NativeMethodAccessorImpl.java:0\n",
      "22/03/02 14:36:58 INFO FileSourceScanExec: Planning scan with bin packing, max size: 4194304 bytes, open cost is considered as scanning 4194304 bytes.\n",
      "22/03/02 14:36:58 INFO SparkContext: Starting job: csv at NativeMethodAccessorImpl.java:0\n",
      "22/03/02 14:36:58 INFO DAGScheduler: Got job 0 (csv at NativeMethodAccessorImpl.java:0) with 1 output partitions\n",
      "22/03/02 14:36:58 INFO DAGScheduler: Final stage: ResultStage 0 (csv at NativeMethodAccessorImpl.java:0)\n",
      "22/03/02 14:36:58 INFO DAGScheduler: Parents of final stage: List()\n",
      "22/03/02 14:36:58 INFO DAGScheduler: Missing parents: List()\n",
      "22/03/02 14:36:58 INFO DAGScheduler: Submitting ResultStage 0 (MapPartitionsRDD[3] at csv at NativeMethodAccessorImpl.java:0), which has no missing parents\n",
      "22/03/02 14:36:58 INFO MemoryStore: Block broadcast_1 stored as values in memory (estimated size 11.6 KiB, free 365.9 MiB)\n",
      "22/03/02 14:36:58 INFO MemoryStore: Block broadcast_1_piece0 stored as bytes in memory (estimated size 5.8 KiB, free 365.9 MiB)\n",
      "22/03/02 14:36:58 INFO BlockManagerInfo: Added broadcast_1_piece0 in memory on host-192-168-2-8-de1:10005 (size: 5.8 KiB, free: 366.3 MiB)\n",
      "22/03/02 14:36:58 INFO SparkContext: Created broadcast 1 from broadcast at DAGScheduler.scala:1478\n",
      "22/03/02 14:36:58 INFO DAGScheduler: Submitting 1 missing tasks from ResultStage 0 (MapPartitionsRDD[3] at csv at NativeMethodAccessorImpl.java:0) (first 15 tasks are for partitions Vector(0))\n",
      "22/03/02 14:36:58 INFO TaskSchedulerImpl: Adding task set 0.0 with 1 tasks resource profile 0\n",
      "22/03/02 14:36:59 INFO ExecutorAllocationManager: Requesting 1 new executor because tasks are backlogged (new desired total will be 1 for resource profile id: 0)\n",
      "22/03/02 14:36:59 INFO StandaloneAppClient$ClientEndpoint: Executor added: app-20220302140534-0019/0 on worker-20220302112609-192.168.2.152-38815 (192.168.2.152:38815) with 1 core(s)\n",
      "22/03/02 14:36:59 INFO StandaloneSchedulerBackend: Granted executor ID app-20220302140534-0019/0 on hostPort 192.168.2.152:38815 with 1 core(s), 1024.0 MiB RAM\n",
      "22/03/02 14:36:59 INFO StandaloneAppClient$ClientEndpoint: Executor updated: app-20220302140534-0019/0 is now RUNNING\n",
      "22/03/02 14:37:02 INFO CoarseGrainedSchedulerBackend$DriverEndpoint: Registered executor NettyRpcEndpointRef(spark-client://Executor) (192.168.2.152:34782) with ID 0,  ResourceProfileId 0\n",
      "22/03/02 14:37:02 INFO ExecutorMonitor: New executor 0 has registered (new total is 2)\n",
      "22/03/02 14:37:02 INFO BlockManagerMasterEndpoint: Registering block manager 192.168.2.152:10005 with 366.3 MiB RAM, BlockManagerId(0, 192.168.2.152, 10005, None)\n",
      "22/03/02 14:37:02 INFO TaskSetManager: Starting task 0.0 in stage 0.0 (TID 0) (192.168.2.152, executor 0, partition 0, ANY, 4878 bytes) taskResourceAssignments Map()\n",
      "22/03/02 14:37:03 INFO BlockManagerInfo: Added broadcast_1_piece0 in memory on 192.168.2.152:10005 (size: 5.8 KiB, free: 366.3 MiB)\n",
      "22/03/02 14:37:05 INFO BlockManagerInfo: Added broadcast_0_piece0 in memory on 192.168.2.152:10005 (size: 32.8 KiB, free: 366.3 MiB)\n",
      "22/03/02 14:37:06 INFO TaskSetManager: Finished task 0.0 in stage 0.0 (TID 0) in 3426 ms on 192.168.2.152 (executor 0) (1/1)\n",
      "22/03/02 14:37:06 INFO TaskSchedulerImpl: Removed TaskSet 0.0, whose tasks have all completed, from pool \n",
      "22/03/02 14:37:06 INFO DAGScheduler: ResultStage 0 (csv at NativeMethodAccessorImpl.java:0) finished in 7.702 s\n",
      "22/03/02 14:37:06 INFO DAGScheduler: Job 0 is finished. Cancelling potential speculative or zombie tasks for this job\n",
      "22/03/02 14:37:06 INFO TaskSchedulerImpl: Killing all running tasks in stage 0: Stage finished\n",
      "22/03/02 14:37:06 INFO DAGScheduler: Job 0 finished: csv at NativeMethodAccessorImpl.java:0, took 7.786704 s\n",
      "22/03/02 14:37:06 INFO BlockManagerInfo: Removed broadcast_1_piece0 on host-192-168-2-8-de1:10005 in memory (size: 5.8 KiB, free: 366.3 MiB)\n",
      "22/03/02 14:37:06 INFO CodeGenerator: Code generated in 44.032046 ms\n",
      "22/03/02 14:37:06 INFO BlockManagerInfo: Removed broadcast_1_piece0 on 192.168.2.152:10005 in memory (size: 5.8 KiB, free: 366.3 MiB)\n",
      "22/03/02 14:37:06 INFO FileSourceStrategy: Pushed Filters: \n",
      "22/03/02 14:37:06 INFO FileSourceStrategy: Post-Scan Filters: \n",
      "22/03/02 14:37:06 INFO FileSourceStrategy: Output Data Schema: struct<value: string>\n",
      "22/03/02 14:37:06 INFO MemoryStore: Block broadcast_2 stored as values in memory (estimated size 339.6 KiB, free 365.6 MiB)\n",
      "22/03/02 14:37:06 INFO MemoryStore: Block broadcast_2_piece0 stored as bytes in memory (estimated size 32.8 KiB, free 365.6 MiB)\n",
      "22/03/02 14:37:06 INFO BlockManagerInfo: Added broadcast_2_piece0 in memory on host-192-168-2-8-de1:10005 (size: 32.8 KiB, free: 366.2 MiB)\n",
      "22/03/02 14:37:06 INFO SparkContext: Created broadcast 2 from csv at NativeMethodAccessorImpl.java:0\n",
      "22/03/02 14:37:06 INFO FileSourceScanExec: Planning scan with bin packing, max size: 4194304 bytes, open cost is considered as scanning 4194304 bytes.\n",
      "22/03/02 14:37:06 INFO FileSourceStrategy: Pushed Filters: \n",
      "22/03/02 14:37:06 INFO FileSourceStrategy: Post-Scan Filters: \n",
      "22/03/02 14:37:06 INFO FileSourceStrategy: Output Data Schema: struct<SongNumber: string, SongID: string, AlbumID: string, AlbumName: string, ArtistID: string ... 16 more fields>\n"
     ]
    }
   ],
   "source": [
    "dataFrame = spark_session.read\\\n",
    "    .option(\"header\", \"true\")\\\n",
    "    .csv('hdfs://192.168.2.200:9000/user/ubuntu/SongCSV.csv')\\\n",
    "    .cache()"
   ]
  },
  {
   "cell_type": "code",
   "execution_count": 14,
   "metadata": {},
   "outputs": [
    {
     "name": "stdout",
     "output_type": "stream",
     "text": [
      "root\n",
      " |-- SongNumber: string (nullable = true)\n",
      " |-- SongID: string (nullable = true)\n",
      " |-- AlbumID: string (nullable = true)\n",
      " |-- AlbumName: string (nullable = true)\n",
      " |-- ArtistID: string (nullable = true)\n",
      " |-- ArtistLatitude: string (nullable = true)\n",
      " |-- ArtistLocation: string (nullable = true)\n",
      " |-- ArtistLongitude: string (nullable = true)\n",
      " |-- ArtistName: string (nullable = true)\n",
      " |-- Danceability: string (nullable = true)\n",
      " |-- Duration: string (nullable = true)\n",
      " |-- KeySignature: string (nullable = true)\n",
      " |-- KeySignatureConfidence: string (nullable = true)\n",
      " |-- Tempo: string (nullable = true)\n",
      " |-- TimeSignature: string (nullable = true)\n",
      " |-- TimeSignatureConfidence: string (nullable = true)\n",
      " |-- Title: string (nullable = true)\n",
      " |-- Year: string (nullable = true)\n",
      "\n"
     ]
    },
    {
     "name": "stderr",
     "output_type": "stream",
     "text": [
      "22/03/02 14:37:36 INFO StandaloneSchedulerBackend: Requesting to kill executor(s) 0\n",
      "22/03/02 14:37:36 INFO StandaloneSchedulerBackend: Actual list of executor(s) to be killed is 0\n",
      "22/03/02 14:37:36 INFO ExecutorAllocationManager: Executors 0 removed due to idle timeout.\n",
      "22/03/02 14:37:36 INFO TaskSchedulerImpl: Executor 0 on 192.168.2.152 killed by driver.\n",
      "22/03/02 14:37:36 INFO DAGScheduler: Executor lost: 0 (epoch 0)\n",
      "22/03/02 14:37:36 INFO BlockManagerMasterEndpoint: Trying to remove executor 0 from BlockManagerMaster.\n",
      "22/03/02 14:37:36 INFO BlockManagerMasterEndpoint: Removing block manager BlockManagerId(0, 192.168.2.152, 10005, None)\n",
      "22/03/02 14:37:36 INFO ExecutorMonitor: Executor 0 is removed. Remove reason statistics: (gracefully decommissioned: 0, decommision unfinished: 0, driver killed: 1, unexpectedly exited: 0).\n",
      "22/03/02 14:37:36 INFO BlockManagerMaster: Removed 0 successfully in removeExecutor\n",
      "22/03/02 14:37:36 INFO DAGScheduler: Shuffle files lost for executor: 0 (epoch 0)\n",
      "22/03/02 15:05:34 INFO BlockManagerInfo: Removed broadcast_2_piece0 on host-192-168-2-8-de1:10005 in memory (size: 32.8 KiB, free: 366.3 MiB)\n",
      "22/03/02 15:05:34 INFO BlockManagerInfo: Removed broadcast_0_piece0 on host-192-168-2-8-de1:10005 in memory (size: 32.8 KiB, free: 366.3 MiB)\n"
     ]
    }
   ],
   "source": [
    "dataFrame.printSchema()"
   ]
  },
  {
   "cell_type": "code",
   "execution_count": 23,
   "metadata": {},
   "outputs": [
    {
     "name": "stderr",
     "output_type": "stream",
     "text": [
      "/home/ubuntu/.local/lib/python3.8/site-packages/pyspark/sql/context.py:77: FutureWarning: Deprecated in 3.0.0. Use SparkSession.builder.getOrCreate() instead.\n",
      "  warnings.warn(\n"
     ]
    }
   ],
   "source": [
    "from pyspark.sql import SQLContext\n",
    "sqlContext = SQLContext(spark_context)\n",
    "sqlContext.read.format('gov.llnl.spark.hdf').option('dataset','/the_dataset').load(\"hdfs:///user/someuser/somepath/file.h5\")"
   ]
  },
  {
   "cell_type": "code",
   "execution_count": null,
   "metadata": {},
   "outputs": [],
   "source": []
  }
 ],
 "metadata": {
  "kernelspec": {
   "display_name": "Python 3 (ipykernel)",
   "language": "python",
   "name": "python3"
  },
  "language_info": {
   "codemirror_mode": {
    "name": "ipython",
    "version": 3
   },
   "file_extension": ".py",
   "mimetype": "text/x-python",
   "name": "python",
   "nbconvert_exporter": "python",
   "pygments_lexer": "ipython3",
   "version": "3.8.10"
  }
 },
 "nbformat": 4,
 "nbformat_minor": 4
}
