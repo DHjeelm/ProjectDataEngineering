{
 "cells": [
  {
   "cell_type": "code",
   "execution_count": 1,
   "metadata": {},
   "outputs": [
    {
     "name": "stderr",
     "output_type": "stream",
     "text": [
      "Using Spark's default log4j profile: org/apache/spark/log4j-defaults.properties\n",
      "Setting default log level to \"WARN\".\n",
      "To adjust logging level use sc.setLogLevel(newLevel). For SparkR, use setLogLevel(newLevel).\n",
      "22/03/03 11:41:45 WARN NativeCodeLoader: Unable to load native-hadoop library for your platform... using builtin-java classes where applicable\n",
      "22/03/03 11:41:49 WARN ExecutorAllocationManager: Dynamic allocation without a shuffle service is an experimental feature.\n"
     ]
    }
   ],
   "source": [
    "from pyspark.sql import SparkSession\n",
    "from operator import add\n",
    "\n",
    "# New API\n",
    "spark_session = SparkSession\\\n",
    "        .builder\\\n",
    "        .master(\"spark://192.168.2.218:7077\") \\\n",
    "        .appName(\"Daniel_Hjelm_Test\")\\\n",
    "        .config(\"spark.executor.cores\",1)\\\n",
    "        .config(\"spark.dynamicAllocation.enabled\", True)\\\n",
    "        .config(\"spark.dynamicAllocation.shuffleTracking.enabled\", True)\\\n",
    "        .config(\"spark.shuffle.service.enabled\", False)\\\n",
    "        .config(\"spark.dynamicAllocation.executorIdleTimeout\",\"30s\")\\\n",
    "        .config(\"spark.driver.port\",9998)\\\n",
    "        .config(\"spark.blockManager.port\",10005)\\\n",
    "        .getOrCreate()\n",
    "\n",
    "spark_context = spark_session.sparkContext\n",
    "\n",
    "spark_context.setLogLevel(\"ERROR\")"
   ]
  },
  {
   "cell_type": "code",
   "execution_count": 2,
   "metadata": {},
   "outputs": [
    {
     "name": "stderr",
     "output_type": "stream",
     "text": [
      "                                                                                \r"
     ]
    }
   ],
   "source": [
    "# Read all the data\n",
    "data = spark_session.read.option(\"recursiveFileLookup\", \"true\").json('hdfs://192.168.2.200:9000/user/ubuntu/lastfm_train/')\n",
    "\n",
    "# Read a small subset of data:\n",
    "data = spark_session.read.json('hdfs://192.168.2.200:9000/user/ubuntu/lastfm_train/B/A/A/*.json')"
   ]
  },
  {
   "cell_type": "code",
   "execution_count": 3,
   "metadata": {},
   "outputs": [
    {
     "name": "stderr",
     "output_type": "stream",
     "text": [
      "                                                                                \r"
     ]
    },
    {
     "data": {
      "text/plain": [
       "38"
      ]
     },
     "execution_count": 3,
     "metadata": {},
     "output_type": "execute_result"
    }
   ],
   "source": [
    "data.count()"
   ]
  },
  {
   "cell_type": "code",
   "execution_count": 4,
   "metadata": {},
   "outputs": [
    {
     "name": "stdout",
     "output_type": "stream",
     "text": [
      "+-------------------+--------------------+--------------------+--------------------+--------------------+------------------+\n",
      "|             artist|            similars|                tags|           timestamp|               title|          track_id|\n",
      "+-------------------+--------------------+--------------------+--------------------+--------------------+------------------+\n",
      "|                ATB|[[TRSLSFI128F92D2...|[[trance, 100], [...|2011-08-11 05:19:...| Wait for Your Heart|TRBAAXR128F14A0B77|\n",
      "|  Adam and the Ants|[[TRFMYDL128F425A...|[[rock, 100], [ne...|2011-08-16 01:25:...|     Family of Noise|TRBAAUP128F425A3E5|\n",
      "|           Bon Jovi|[[TRSBRCR128F145E...|[[80s, 100], [roc...|2011-08-11 16:13:...|The One That Got ...|TRBAAOT128F4261A18|\n",
      "|        Lurrie Bell|[[TRHLRYE128F92F8...|                  []|2011-08-05 14:46:...|Going Back To Lou...|TRBAALN128F424B45F|\n",
      "|       Ronny Jordan|[[TRHUBQD128F145F...|[[DJMFmylovedmusi...|2011-08-11 21:55:...|          Nite Spice|TRBAAHD128E0792A85|\n",
      "|           Tina Ann|[[TRHDZJM128F426B...|[[pop, 100], [dan...|2011-08-06 04:20:...|Rules of Attracti...|TRBAADN128F426B7A4|\n",
      "|      Urge Overkill|[[TROUACJ128F148D...|[[1993, 100], [ro...|2011-08-02 13:43:...|         Crackbabies|TRBAAGQ128F148D17E|\n",
      "|        Yusuf Islam|[[TRFZJBN128F426E...|[[islamic, 100], ...|2011-08-04 04:18:...|      A Is for Allah|TRBAAPY128F426E2EB|\n",
      "|American Music Club|[[TRAEUPC128F423C...|[[rock, 100], [po...|2011-08-09 16:15:...|The Dead Part Of You|TRBAADF128F423CCD2|\n",
      "|         Dave Mason|[[TRZPENW128F4269...|[[soft rock, 100]...|2011-08-10 11:20:...|         Every Woman|TRBAASA128F4268936|\n",
      "|           Splender|[[TRFQTQU128F4263...|[[alternative roc...|2011-08-11 19:59:...|          Wallflower|TRBAASM128F4262230|\n",
      "| Staggered Crossing|[[TRKRYJG128F4280...|                  []|2011-08-05 04:56:...|A Million Works o...|TRBAAMP128F4280192|\n",
      "|        Chet Atkins|[[TRQZZYI128F42A3...|                  []|2011-08-09 20:42:...|       Knucklebuster|TRBAAEJ128F4263AB7|\n",
      "|      Need New Body|[[TRAVEIZ128F42AB...|        [[lol, 100]]|2011-08-12 03:16:...|                 Pen|TRBAANV128F42AB44E|\n",
      "|            Cam'Ron|[[TRGYJWD128F42A6...|                  []|2011-09-07 13:07:...|I'm A Chicken Hea...|TRBAAOC128F42A6BEA|\n",
      "|            Majesty|[[TRQSYZO12903CA4...|[[Power metal, 100]]|2011-08-10 04:39:...| Falcon in the Storm|TRBAAUS12903CA43B2|\n",
      "|       Renato Russo|[[TRXSYYB128F42AC...|                  []|2011-09-07 17:56:...|             Passera|TRBAAGO128F42AA6AE|\n",
      "|    Safi Connection|[[TRJCASW128F92F6...|[[trance, 100], [...|2011-08-05 12:16:...|   Experimental Dose|TRBAACQ128F93562B8|\n",
      "|            Toy-Box|                  []|[[dance, 100], [e...|2011-08-09 02:59:...|     The Sailor Song|TRBAASW128F92DD8A6|\n",
      "|       Oscar Mulero|                  []|[[techno, 100], [...|2011-08-11 14:39:...|     Friday Thirteen|TRBAAYO12903CC246C|\n",
      "+-------------------+--------------------+--------------------+--------------------+--------------------+------------------+\n",
      "only showing top 20 rows\n",
      "\n"
     ]
    }
   ],
   "source": [
    "data.show()"
   ]
  },
  {
   "cell_type": "code",
   "execution_count": null,
   "metadata": {},
   "outputs": [],
   "source": []
  }
 ],
 "metadata": {
  "kernelspec": {
   "display_name": "Python 3 (ipykernel)",
   "language": "python",
   "name": "python3"
  },
  "language_info": {
   "codemirror_mode": {
    "name": "ipython",
    "version": 3
   },
   "file_extension": ".py",
   "mimetype": "text/x-python",
   "name": "python",
   "nbconvert_exporter": "python",
   "pygments_lexer": "ipython3",
   "version": "3.8.10"
  }
 },
 "nbformat": 4,
 "nbformat_minor": 4
}
