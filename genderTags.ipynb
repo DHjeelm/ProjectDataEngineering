{
 "cells": [
  {
   "cell_type": "code",
   "execution_count": 1,
   "metadata": {},
   "outputs": [
    {
     "name": "stderr",
     "output_type": "stream",
     "text": [
      "Using Spark's default log4j profile: org/apache/spark/log4j-defaults.properties\n",
      "Setting default log level to \"WARN\".\n",
      "To adjust logging level use sc.setLogLevel(newLevel). For SparkR, use setLogLevel(newLevel).\n",
      "22/03/07 07:21:21 WARN NativeCodeLoader: Unable to load native-hadoop library for your platform... using builtin-java classes where applicable\n",
      "22/03/07 07:21:23 WARN ExecutorAllocationManager: Dynamic allocation without a shuffle service is an experimental feature.\n"
     ]
    }
   ],
   "source": [
    "from pyspark.sql import SparkSession\n",
    "from operator import add\n",
    "\n",
    "# New API\n",
    "spark_session = SparkSession\\\n",
    "        .builder\\\n",
    "        .master(\"spark://192.168.2.218:7077\") \\\n",
    "        .appName(\"Daniel_Hjelm_Test\")\\\n",
    "        .config(\"spark.executor.cores\",1)\\\n",
    "        .config(\"spark.dynamicAllocation.enabled\", True)\\\n",
    "        .config(\"spark.dynamicAllocation.shuffleTracking.enabled\", True)\\\n",
    "        .config(\"spark.shuffle.service.enabled\", False)\\\n",
    "        .config(\"spark.dynamicAllocation.executorIdleTimeout\",\"30s\")\\\n",
    "        .config(\"spark.driver.port\",9998)\\\n",
    "        .config(\"spark.blockManager.port\",10005)\\\n",
    "        .getOrCreate()\n",
    "\n",
    "spark_context = spark_session.sparkContext\n",
    "\n",
    "spark_context.setLogLevel(\"ERROR\")"
   ]
  },
  {
   "cell_type": "code",
   "execution_count": 2,
   "metadata": {},
   "outputs": [
    {
     "name": "stderr",
     "output_type": "stream",
     "text": [
      "                                                                                \r"
     ]
    }
   ],
   "source": [
    "# Read all the data\n",
    "data = spark_session.read.option(\"recursiveFileLookup\", \"true\").json('hdfs://192.168.2.200:9000/user/ubuntu/lastfm_train/B/A')\n",
    "\n",
    "# Read a small subset of data:\n",
    "#data = spark_session.read.json('hdfs://192.168.2.200:9000/user/ubuntu/lastfm_train/B/A/A/*.json')"
   ]
  },
  {
   "cell_type": "code",
   "execution_count": 3,
   "metadata": {},
   "outputs": [
    {
     "name": "stderr",
     "output_type": "stream",
     "text": [
      "                                                                                \r"
     ]
    },
    {
     "data": {
      "text/plain": [
       "1289"
      ]
     },
     "execution_count": 3,
     "metadata": {},
     "output_type": "execute_result"
    }
   ],
   "source": [
    "# Count the amount of rows in the dataset\n",
    "data.count()"
   ]
  },
  {
   "cell_type": "code",
   "execution_count": 4,
   "metadata": {},
   "outputs": [
    {
     "name": "stderr",
     "output_type": "stream",
     "text": [
      "[Stage 5:>                                                          (0 + 1) / 1]\r"
     ]
    },
    {
     "name": "stdout",
     "output_type": "stream",
     "text": [
      "+--------------------+--------------------+--------------------+--------------------+--------------------+------------------+\n",
      "|              artist|            similars|                tags|           timestamp|               title|          track_id|\n",
      "+--------------------+--------------------+--------------------+--------------------+--------------------+------------------+\n",
      "|            Maroon 5|[[TRZHXFO128F9302...|[[pop, 100], [roc...|2011-08-02 20:57:...|   She Will Be Loved|TRBAMHJ128F9302A08|\n",
      "|          Anita Ward|[[TRQCINT128F4245...|[[Disco, 100], [7...|2011-08-15 12:34:...|        Ring My Bell|TRBASRX128F92E9CD1|\n",
      "|Bill Haley and th...|[[TRISKEM128F427D...|[[oldies, 100], [...|2011-08-02 09:55:...|See You Later All...|TRBAJNU128F4260039|\n",
      "|       Eddie Cochran|[[TRIEPQF128F9329...|[[rock n roll, 10...|2011-08-11 20:51:...|     C'mon Everybody|TRBAMXP128F92FC856|\n",
      "|          The Troggs|[[TRGQCBQ12903CBC...|[[60s, 100], [cla...|2011-08-05 01:01:...|          Wild Thing|TRBAKTC128F93358D6|\n",
      "|Bill Medley & Jen...|[[TRZVLLV128F4288...|[[80s, 100], [Sou...|2011-08-12 08:57:...|(I've Had) The Ti...|TRBAOSL12903CA4519|\n",
      "|           Aerosmith|[[TRITYXQ128E078E...|[[rock, 100], [cl...|2011-08-01 09:53:...|   Janie's Got A Gun|TRBARHH128E078EDE9|\n",
      "|      Britney Spears|[[TRRTNCU128F92F1...|[[pop, 100], [Bri...|2011-08-03 04:33:...|Oops!...I Did It ...|TRBAUVN128F932FEF8|\n",
      "|             Cascada|[[TRABGIN128F14B0...|[[dance, 100], [p...|2011-08-02 13:58:...|  Truly Madly Deeply|TRBATIF128F149246C|\n",
      "|    Billie Jo Spears|[[TRGLHUS128F4294...|[[country, 100], ...|2011-08-08 11:47:...|          Misty Blue|TRBALVT128F145B6CB|\n",
      "|        Hall & Oates|[[TRBGGWQ128F42A8...|[[80s, 100], [pop...|2011-08-10 02:56:...|  You Make My Dreams|TRBAYLZ128F933841B|\n",
      "|        Annie Lennox|[[TRGZFJY128F92EE...|[[pop, 100], [fem...|2011-08-09 00:18:...|         Little Bird|TRBAFJQ128F4259FB5|\n",
      "|     Whitney Houston|[[TRQIESP128F428C...|[[pop, 100], [80s...|2011-08-01 17:54:...|Didn't We Almost ...|TRBAFNH128F428CB96|\n",
      "|             Shakira|[[TRNQSMA128F427D...|[[pop, 100], [lat...|2011-08-10 22:03:...|   Objection (Tango)|TRBAHID128F4278EAF|\n",
      "|           New Order|[[TRTDOCL128E0787...|[[80s, 100], [new...|2011-08-11 19:08:...|           Fine Time|TRBAELY128F92EB8F2|\n",
      "|               Cream|[[TRGEBPX128E0792...|[[classic rock, 1...|2011-08-05 07:12:...|      Wrapping Paper|TRBAMAL128F421431D|\n",
      "|         Cheap Trick|[[TRGZMGO128F4267...|[[classic rock, 1...|2011-08-09 17:38:...|        Dream Police|TRBAMVV128F930B5A1|\n",
      "|          Nickelback|[[TRYBLTX128F426B...|[[rock, 100], [al...|2011-08-02 00:55:...|           Savin' Me|TRBASRX12903C9FDA8|\n",
      "|          Frankmusik|[[TRFVVHR128F9331...|[[electronic, 100...|2011-08-11 08:30:...|             In Step|TRBAZWU128F9331B4D|\n",
      "|         Bad Company|[[TRMQUSZ12903CF7...|[[classic rock, 1...|2011-08-08 23:14:...|         Rock Steady|TRBAVMF12903CEA4FB|\n",
      "+--------------------+--------------------+--------------------+--------------------+--------------------+------------------+\n",
      "only showing top 20 rows\n",
      "\n"
     ]
    },
    {
     "name": "stderr",
     "output_type": "stream",
     "text": [
      "                                                                                \r"
     ]
    }
   ],
   "source": [
    "# Display the data\n",
    "data.show()"
   ]
  },
  {
   "cell_type": "code",
   "execution_count": 5,
   "metadata": {},
   "outputs": [
    {
     "name": "stdout",
     "output_type": "stream",
     "text": [
      "+--------------------+--------------------+--------------------+--------------------+--------------------+------------------+--------------------+\n",
      "|              artist|            similars|                tags|           timestamp|               title|          track_id|            new tags|\n",
      "+--------------------+--------------------+--------------------+--------------------+--------------------+------------------+--------------------+\n",
      "|            Maroon 5|[[TRZHXFO128F9302...|[[pop, 100], [roc...|2011-08-02 20:57:...|   She Will Be Loved|TRBAMHJ128F9302A08|[pop, 100, rock, ...|\n",
      "|          Anita Ward|[[TRQCINT128F4245...|[[Disco, 100], [7...|2011-08-15 12:34:...|        Ring My Bell|TRBASRX128F92E9CD1|[Disco, 100, 70s,...|\n",
      "|Bill Haley and th...|[[TRISKEM128F427D...|[[oldies, 100], [...|2011-08-02 09:55:...|See You Later All...|TRBAJNU128F4260039|[oldies, 100, roc...|\n",
      "|       Eddie Cochran|[[TRIEPQF128F9329...|[[rock n roll, 10...|2011-08-11 20:51:...|     C'mon Everybody|TRBAMXP128F92FC856|[rock n roll, 100...|\n",
      "|          The Troggs|[[TRGQCBQ12903CBC...|[[60s, 100], [cla...|2011-08-05 01:01:...|          Wild Thing|TRBAKTC128F93358D6|[60s, 100, classi...|\n",
      "|Bill Medley & Jen...|[[TRZVLLV128F4288...|[[80s, 100], [Sou...|2011-08-12 08:57:...|(I've Had) The Ti...|TRBAOSL12903CA4519|[80s, 100, Soundt...|\n",
      "|           Aerosmith|[[TRITYXQ128E078E...|[[rock, 100], [cl...|2011-08-01 09:53:...|   Janie's Got A Gun|TRBARHH128E078EDE9|[rock, 100, class...|\n",
      "|      Britney Spears|[[TRRTNCU128F92F1...|[[pop, 100], [Bri...|2011-08-03 04:33:...|Oops!...I Did It ...|TRBAUVN128F932FEF8|[pop, 100, Britne...|\n",
      "|             Cascada|[[TRABGIN128F14B0...|[[dance, 100], [p...|2011-08-02 13:58:...|  Truly Madly Deeply|TRBATIF128F149246C|[dance, 100, pop,...|\n",
      "|    Billie Jo Spears|[[TRGLHUS128F4294...|[[country, 100], ...|2011-08-08 11:47:...|          Misty Blue|TRBALVT128F145B6CB|[country, 100, ol...|\n",
      "|        Hall & Oates|[[TRBGGWQ128F42A8...|[[80s, 100], [pop...|2011-08-10 02:56:...|  You Make My Dreams|TRBAYLZ128F933841B|[80s, 100, pop, 6...|\n",
      "|        Annie Lennox|[[TRGZFJY128F92EE...|[[pop, 100], [fem...|2011-08-09 00:18:...|         Little Bird|TRBAFJQ128F4259FB5|[pop, 100, female...|\n",
      "|     Whitney Houston|[[TRQIESP128F428C...|[[pop, 100], [80s...|2011-08-01 17:54:...|Didn't We Almost ...|TRBAFNH128F428CB96|[pop, 100, 80s, 8...|\n",
      "|             Shakira|[[TRNQSMA128F427D...|[[pop, 100], [lat...|2011-08-10 22:03:...|   Objection (Tango)|TRBAHID128F4278EAF|[pop, 100, latin,...|\n",
      "|           New Order|[[TRTDOCL128E0787...|[[80s, 100], [new...|2011-08-11 19:08:...|           Fine Time|TRBAELY128F92EB8F2|[80s, 100, new wa...|\n",
      "|               Cream|[[TRGEBPX128E0792...|[[classic rock, 1...|2011-08-05 07:12:...|      Wrapping Paper|TRBAMAL128F421431D|[classic rock, 10...|\n",
      "|         Cheap Trick|[[TRGZMGO128F4267...|[[classic rock, 1...|2011-08-09 17:38:...|        Dream Police|TRBAMVV128F930B5A1|[classic rock, 10...|\n",
      "|          Nickelback|[[TRYBLTX128F426B...|[[rock, 100], [al...|2011-08-02 00:55:...|           Savin' Me|TRBASRX12903C9FDA8|[rock, 100, alter...|\n",
      "|          Frankmusik|[[TRFVVHR128F9331...|[[electronic, 100...|2011-08-11 08:30:...|             In Step|TRBAZWU128F9331B4D|[electronic, 100,...|\n",
      "|         Bad Company|[[TRMQUSZ12903CF7...|[[classic rock, 1...|2011-08-08 23:14:...|         Rock Steady|TRBAVMF12903CEA4FB|[classic rock, 10...|\n",
      "+--------------------+--------------------+--------------------+--------------------+--------------------+------------------+--------------------+\n",
      "only showing top 20 rows\n",
      "\n"
     ]
    }
   ],
   "source": [
    "# Flatten the tags column\n",
    "from pyspark.sql.functions import flatten\n",
    "dataframe = data.withColumn(\"new tags\", flatten(data.tags))\n",
    "dataframe.show()"
   ]
  },
  {
   "cell_type": "code",
   "execution_count": 6,
   "metadata": {},
   "outputs": [
    {
     "name": "stdout",
     "output_type": "stream",
     "text": [
      "root\n",
      " |-- artist: string (nullable = true)\n",
      " |-- similars: array (nullable = true)\n",
      " |    |-- element: array (containsNull = true)\n",
      " |    |    |-- element: string (containsNull = true)\n",
      " |-- tags: array (nullable = true)\n",
      " |    |-- element: array (containsNull = true)\n",
      " |    |    |-- element: string (containsNull = true)\n",
      " |-- timestamp: string (nullable = true)\n",
      " |-- title: string (nullable = true)\n",
      " |-- track_id: string (nullable = true)\n",
      " |-- new tags: array (nullable = true)\n",
      " |    |-- element: string (containsNull = true)\n",
      "\n"
     ]
    }
   ],
   "source": [
    "dataframe.printSchema()"
   ]
  },
  {
   "cell_type": "code",
   "execution_count": 7,
   "metadata": {},
   "outputs": [
    {
     "data": {
      "text/plain": [
       "Row(new tags=['pop', '100', 'rock', '83', 'maroon 5', '78', 'alternative', '59', 'pop rock', '51', 'Love', '27', 'alternative rock', '18', 'she will be loved', '16', 'Ballad', '12', 'Mellow', '10', 'male vocalists', '10', '00s', '9', 'soft rock', '8', 'favorites', '8', 'romantic', '7', 'Maroon5', '7', 'chill', '7', 'american', '6', 'love songs', '6', 'indie', '6', 'beautiful', '6', 'chillout', '5', 'memories', '5', 'sad', '4', 'Pop-Rock', '3', 'acoustic', '3', 'Favorite', '3', 'love song', '3', 'Maroon 5 - She will be loved', '3', 'easy listening', '3', 'relax', '2', 'male vocalist', '2', 'Favourites', '2', 'favorite songs', '2', 'Maroon 5 She Will Be Loved', '2', 'funk', '2', '2004', '2', 'indie rock', '2', 'Sentimental', '2', 'loved', '1', 'slow', '1', 'One Tree Hill', '1', 'sweet', '1', 'ballads', '1', 'nostalgic', '1', 'catchy', '1', 'emo', '1', 'melancholic', '1', 'soft', '1', 'amazing', '1', 'cool', '1', 'Awesome', '1', 'top 40', '1', 'Good Stuff', '1', 'favourite', '1', 'guilty pleasure', '1', 'soul', '1', 'lovely', '1', 'West Coast swing', '1', 'singer-songwriter', '1', 'USA', '1', 'my youth', '1', 'maroon', '1', 'fav', '1', '2000s', '1', 'breaks my heart', '1', 'Guilty Pleasures', '1', 'good', '1', 'Love it', '1', 'falling asleep sadly', '1', 'melodic', '0', 'expressive', '0', 'america', '0', 'poprock', '0', 'adult contemporary', '0', 'Verbotene Liebe', '0', 'The 4400', '0', 'new', '0', 'sadness', '0', 'perfect', '0', '2002', '0', 'broken smile', '0', 'Favourite Songs', '0', 'melancholy', '0', 'zierkafasza', '0', 'smooth', '0', 'personal value', '0', 'sing along', '0', 'lounge', '0', 'anthem', '0', 'romance', '0', 'live', '0', 'great song', '0', 'lyrics', '0', 'jazz', '0', 'RockPop', '0', '4th grade', '0', 'scrobble', '0', 'usa mainstream top 40 number one hit', '0', 'alternative pop', '0'])"
      ]
     },
     "execution_count": 7,
     "metadata": {},
     "output_type": "execute_result"
    }
   ],
   "source": [
    "# Inspect the new tags column\n",
    "dataframe.select(\"new tags\").first()"
   ]
  },
  {
   "cell_type": "code",
   "execution_count": 8,
   "metadata": {},
   "outputs": [],
   "source": [
    "# Remove the numbers from the tags\n",
    "from pyspark.sql.types import ArrayType, StringType\n",
    "from pyspark.sql.functions import udf, col\n",
    "\n",
    "removeNumbers = udf(lambda lst: lst[0::2], ArrayType(StringType()))\n",
    "\n",
    "dataFrame = dataframe.withColumn(\"only tags\", removeNumbers(col(\"new tags\")))"
   ]
  },
  {
   "cell_type": "code",
   "execution_count": 9,
   "metadata": {},
   "outputs": [
    {
     "name": "stderr",
     "output_type": "stream",
     "text": [
      "                                                                                \r"
     ]
    },
    {
     "data": {
      "text/plain": [
       "Row(only tags=['pop', 'rock', 'maroon 5', 'alternative', 'pop rock', 'Love', 'alternative rock', 'she will be loved', 'Ballad', 'Mellow', 'male vocalists', '00s', 'soft rock', 'favorites', 'romantic', 'Maroon5', 'chill', 'american', 'love songs', 'indie', 'beautiful', 'chillout', 'memories', 'sad', 'Pop-Rock', 'acoustic', 'Favorite', 'love song', 'Maroon 5 - She will be loved', 'easy listening', 'relax', 'male vocalist', 'Favourites', 'favorite songs', 'Maroon 5 She Will Be Loved', 'funk', '2004', 'indie rock', 'Sentimental', 'loved', 'slow', 'One Tree Hill', 'sweet', 'ballads', 'nostalgic', 'catchy', 'emo', 'melancholic', 'soft', 'amazing', 'cool', 'Awesome', 'top 40', 'Good Stuff', 'favourite', 'guilty pleasure', 'soul', 'lovely', 'West Coast swing', 'singer-songwriter', 'USA', 'my youth', 'maroon', 'fav', '2000s', 'breaks my heart', 'Guilty Pleasures', 'good', 'Love it', 'falling asleep sadly', 'melodic', 'expressive', 'america', 'poprock', 'adult contemporary', 'Verbotene Liebe', 'The 4400', 'new', 'sadness', 'perfect', '2002', 'broken smile', 'Favourite Songs', 'melancholy', 'zierkafasza', 'smooth', 'personal value', 'sing along', 'lounge', 'anthem', 'romance', 'live', 'great song', 'lyrics', 'jazz', 'RockPop', '4th grade', 'scrobble', 'usa mainstream top 40 number one hit', 'alternative pop'])"
      ]
     },
     "execution_count": 9,
     "metadata": {},
     "output_type": "execute_result"
    }
   ],
   "source": [
    "dataFrame.select(\"only tags\").first()"
   ]
  },
  {
   "cell_type": "code",
   "execution_count": 77,
   "metadata": {},
   "outputs": [
    {
     "name": "stderr",
     "output_type": "stream",
     "text": [
      "                                                                                \r"
     ]
    },
    {
     "data": {
      "text/plain": [
       "[Row(Gender tag=['male']),\n",
       " Row(Gender tag=['female', 'male']),\n",
       " Row(Gender tag=['male']),\n",
       " Row(Gender tag=['male']),\n",
       " Row(Gender tag=['male']),\n",
       " Row(Gender tag=['male', 'female']),\n",
       " Row(Gender tag=['male']),\n",
       " Row(Gender tag=['female', 'male']),\n",
       " Row(Gender tag=['female', 'male']),\n",
       " Row(Gender tag=['female']),\n",
       " Row(Gender tag=['male']),\n",
       " Row(Gender tag=['female', 'male']),\n",
       " Row(Gender tag=['female', 'male']),\n",
       " Row(Gender tag=['female', 'male']),\n",
       " Row(Gender tag=[]),\n",
       " Row(Gender tag=['male']),\n",
       " Row(Gender tag=['male']),\n",
       " Row(Gender tag=['male']),\n",
       " Row(Gender tag=['male']),\n",
       " Row(Gender tag=[])]"
      ]
     },
     "execution_count": 77,
     "metadata": {},
     "output_type": "execute_result"
    }
   ],
   "source": [
    "import re\n",
    "# Function for fetching the gender from the tags\n",
    "def genderTags(lst):\n",
    "    genderList = []\n",
    "    for element in lst:\n",
    "        if re.search(\"female|Female\", element) and \"female\" not in genderList:\n",
    "            genderList.append(\"female\")\n",
    "            continue\n",
    "        elif re.search(\"male|Male\", element) and \"male\" not in genderList:\n",
    "            genderList.append(\"male\")\n",
    "            continue\n",
    "        \n",
    "    return genderList\n",
    "\n",
    "# Create udf from the above function\n",
    "genderTagUDF = udf(genderTags, ArrayType(StringType()))\n",
    "\n",
    "# Create a new column representing wether a song has been tagged with \"female\", \"male\" or both\n",
    "dataframe = dataFrame.withColumn(\"Gender tag\", genderTagUDF(col(\"only tags\")))\n",
    "\n",
    "dataframe.select(\"Gender tag\").take(20)\n",
    "        \n"
   ]
  },
  {
   "cell_type": "code",
   "execution_count": 78,
   "metadata": {},
   "outputs": [],
   "source": [
    "# Create new dataframe with only the tags and the gender tag\n",
    "genderDataFrame = dataframe.select(\"only tags\", \"Gender tag\")"
   ]
  },
  {
   "cell_type": "code",
   "execution_count": 79,
   "metadata": {},
   "outputs": [],
   "source": [
    "# Explode the tags column\n",
    "from pyspark.sql.functions import explode\n",
    "genderDataFrame = genderDataFrame.select(genderDataFrame[\"Gender tag\"], explode(genderDataFrame[\"only tags\"]))\n",
    "genderDataFrame = genderDataFrame.withColumnRenamed(\"col\", \"Tag\")"
   ]
  },
  {
   "cell_type": "code",
   "execution_count": 80,
   "metadata": {},
   "outputs": [
    {
     "name": "stdout",
     "output_type": "stream",
     "text": [
      "+----------+-----------------+\n",
      "|Gender tag|              Tag|\n",
      "+----------+-----------------+\n",
      "|    [male]|              pop|\n",
      "|    [male]|             rock|\n",
      "|    [male]|         maroon 5|\n",
      "|    [male]|      alternative|\n",
      "|    [male]|         pop rock|\n",
      "|    [male]|             Love|\n",
      "|    [male]| alternative rock|\n",
      "|    [male]|she will be loved|\n",
      "|    [male]|           Ballad|\n",
      "|    [male]|           Mellow|\n",
      "|    [male]|   male vocalists|\n",
      "|    [male]|              00s|\n",
      "|    [male]|        soft rock|\n",
      "|    [male]|        favorites|\n",
      "|    [male]|         romantic|\n",
      "|    [male]|          Maroon5|\n",
      "|    [male]|            chill|\n",
      "|    [male]|         american|\n",
      "|    [male]|       love songs|\n",
      "|    [male]|            indie|\n",
      "+----------+-----------------+\n",
      "only showing top 20 rows\n",
      "\n"
     ]
    }
   ],
   "source": [
    "genderDataFrame.show()"
   ]
  },
  {
   "cell_type": "code",
   "execution_count": 82,
   "metadata": {},
   "outputs": [],
   "source": [
    "# Explode the gender tag column\n",
    "genderDataFrame = genderDataFrame.select(explode(genderDataFrame[\"Gender tag\"]), genderDataFrame[\"Tag\"])\n",
    "genderDataFrame = genderDataFrame.withColumnRenamed(\"col\", \"Gender\")"
   ]
  },
  {
   "cell_type": "code",
   "execution_count": 83,
   "metadata": {},
   "outputs": [
    {
     "name": "stdout",
     "output_type": "stream",
     "text": [
      "root\n",
      " |-- Gender: string (nullable = true)\n",
      " |-- Tag: string (nullable = true)\n",
      "\n"
     ]
    }
   ],
   "source": [
    "genderDataFrame.printSchema()"
   ]
  },
  {
   "cell_type": "code",
   "execution_count": 84,
   "metadata": {},
   "outputs": [
    {
     "name": "stderr",
     "output_type": "stream",
     "text": [
      "                                                                                \r"
     ]
    },
    {
     "data": {
      "text/plain": [
       "[Row(Gender='male', Tag='pop')]"
      ]
     },
     "execution_count": 84,
     "metadata": {},
     "output_type": "execute_result"
    }
   ],
   "source": [
    "genderDataFrame.take(1)"
   ]
  },
  {
   "cell_type": "code",
   "execution_count": 86,
   "metadata": {},
   "outputs": [
    {
     "name": "stderr",
     "output_type": "stream",
     "text": [
      "[Stage 36:===================================================>    (38 + 3) / 41]\r"
     ]
    },
    {
     "name": "stdout",
     "output_type": "stream",
     "text": [
      "+-----------------+----------------+\n",
      "|              Tag|Frequency of tag|\n",
      "+-----------------+----------------+\n",
      "| female vocalists|              68|\n",
      "|              pop|              40|\n",
      "|             rock|              31|\n",
      "|  female vocalist|              31|\n",
      "|             Love|              24|\n",
      "|            dance|              22|\n",
      "|           female|              21|\n",
      "|              00s|              20|\n",
      "|       electronic|              18|\n",
      "|singer-songwriter|              17|\n",
      "|        beautiful|              16|\n",
      "|             soul|              16|\n",
      "|         chillout|              15|\n",
      "|      alternative|              14|\n",
      "|         american|              13|\n",
      "|              80s|              11|\n",
      "|        favorites|              11|\n",
      "|            chill|              10|\n",
      "|             jazz|              10|\n",
      "|            indie|              10|\n",
      "+-----------------+----------------+\n",
      "only showing top 20 rows\n",
      "\n"
     ]
    },
    {
     "name": "stderr",
     "output_type": "stream",
     "text": [
      "                                                                                \r"
     ]
    }
   ],
   "source": [
    "# Find the most frequent tags for \"female\"\n",
    "tag_freq_df_female = genderDataFrame.select(\"Tag\").filter(genderDataFrame[\"Gender\"] == \"female\").groupBy(\"Tag\").agg({\"Tag\": \"count\"})\\\n",
    "        .withColumnRenamed(\"count(Tag)\",\"Frequency of tag\").orderBy(\"Frequency of tag\", ascending=False)\n",
    "\n",
    "tag_freq_df_female.show()"
   ]
  },
  {
   "cell_type": "code",
   "execution_count": null,
   "metadata": {},
   "outputs": [],
   "source": []
  }
 ],
 "metadata": {
  "kernelspec": {
   "display_name": "Python 3 (ipykernel)",
   "language": "python",
   "name": "python3"
  },
  "language_info": {
   "codemirror_mode": {
    "name": "ipython",
    "version": 3
   },
   "file_extension": ".py",
   "mimetype": "text/x-python",
   "name": "python",
   "nbconvert_exporter": "python",
   "pygments_lexer": "ipython3",
   "version": "3.8.10"
  }
 },
 "nbformat": 4,
 "nbformat_minor": 4
}
