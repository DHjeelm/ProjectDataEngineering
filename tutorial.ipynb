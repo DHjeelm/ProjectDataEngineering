{
 "cells": [
  {
   "cell_type": "code",
   "execution_count": 1,
   "metadata": {},
   "outputs": [],
   "source": [
    "# Imports\n",
    "import os\n",
    "import sys\n",
    "import time\n",
    "import glob\n",
    "import datetime\n",
    "import sqlite3\n",
    "import numpy as np"
   ]
  },
  {
   "cell_type": "code",
   "execution_count": 6,
   "metadata": {},
   "outputs": [],
   "source": [
    "# Paths to the Millon Song Dataset\n",
    "\n",
    "# Change this path later\n",
    "msdSubsetPath = '/Users/daniel/Desktop/DataEngineering1/MillionSongSubset'\n",
    "\n",
    "# Dont actually know if this is needed, applyAllFiles doesn't work on this\n",
    "msdSubsetDataPath = os.path.join(msdSubsetPath , 'data')\n",
    "msdSubsetAdditional = os.path.join(msdSubsetPath , 'Additional')\n",
    "\n",
    "# Check that everyting is alright\n",
    "assert os.path.isdir(msdSubsetPath) , 'Something is wrong with the path'\n",
    "\n",
    "# Path to code\n",
    "mdsSubsetCodePath = '/Users/daniel/Desktop/DataEngineering1/ProjectDataEngineering'\n",
    "assert os.path.isdir(mdsSubsetCodePath) , 'Something is wrong with the path'\n",
    "\n",
    "# Path to Python so we can import code\n",
    "sys.path.append(os.path.join(mdsSubsetCodePath , 'PythonSrc' ) )\n"
   ]
  },
  {
   "cell_type": "code",
   "execution_count": 7,
   "metadata": {},
   "outputs": [],
   "source": [
    "# Imprt the hdf5_getters \n",
    "import hdf5_getters as Getters"
   ]
  },
  {
   "cell_type": "code",
   "execution_count": 8,
   "metadata": {},
   "outputs": [],
   "source": [
    "# Nice string representation of time lag\n",
    "def strtimedelta (starttime , stoptime):\n",
    "    return str(datetime.timedelta(seconds=stoptime-starttime))"
   ]
  },
  {
   "cell_type": "code",
   "execution_count": 11,
   "metadata": {},
   "outputs": [
    {
     "name": "stdout",
     "output_type": "stream",
     "text": [
      "Number of songs:  10000\n"
     ]
    }
   ],
   "source": [
    "# Function to apply on all files in Subset\n",
    "def applyToAllFiles(baseDirectory, func=lambda x : x , ext='.h5'):\n",
    "    # Counter\n",
    "    length = 0\n",
    "    for  root, directories , files in os.walk(baseDirectory):\n",
    "        # Fetch files\n",
    "        files = glob.glob(os.path.join(root, '*'+ext))\n",
    "        # Add number of files\n",
    "        length += len(files)\n",
    "\n",
    "        for f in files:\n",
    "            func(f)\n",
    "    return length        \n",
    "\n",
    "print(\"Number of songs: \", applyToAllFiles(msdSubsetPath))"
   ]
  },
  {
   "cell_type": "code",
   "execution_count": 12,
   "metadata": {},
   "outputs": [
    {
     "name": "stdout",
     "output_type": "stream",
     "text": [
      "Time to fetch artist names: 0:01:31.141330\n"
     ]
    }
   ],
   "source": [
    "# Fetch all artist names\n",
    "\n",
    "artistNames = set()\n",
    "\n",
    "def getArtistNames(fileName):\n",
    "    # Fetch file\n",
    "    file = Getters.open_h5_file_read(fileName)\n",
    "    # Fetch artist name\n",
    "    artistName = Getters.get_artist_name(file)\n",
    "    # Add to set\n",
    "    artistNames.add(artistName)\n",
    "    # Close file\n",
    "    file.close()\n",
    "\n",
    "# Check duration of fetching artist names\n",
    "startTime = time.time()\n",
    "applyToAllFiles(msdSubsetPath, func=getArtistNames)\n",
    "endTime = time.time()\n",
    "print(\"Time to fetch artist names:\", strtimedelta(startTime, endTime))"
   ]
  },
  {
   "cell_type": "code",
   "execution_count": 15,
   "metadata": {},
   "outputs": [
    {
     "name": "stdout",
     "output_type": "stream",
     "text": [
      "Total number of unique artist 4412\n",
      " b'Paul Cantelon'\n",
      " b'Deborahe Glasgow'\n",
      " b'Frank Chacksfield'\n",
      " b'Carl Crack'\n",
      " b'Gabriel Yared'\n",
      " b'Kiprich'\n",
      " b'Eri Esitt\\xc3\\xa4ji\\xc3\\xa4'\n",
      " b'Marimba Alma De Chiapas De Juan Palacios'\n",
      " b'Gathering'\n",
      " b'Raphael'\n"
     ]
    }
   ],
   "source": [
    "# Analyze the artist names\n",
    "\n",
    "# Total number of unique artist\n",
    "print(\"Total number of unique artist\", len(artistNames))\n",
    "\n",
    "# Fetch first 10 of the names\n",
    "for i in range(10):\n",
    "        print(\"\",list(artistNames)[i])\n",
    "\n"
   ]
  },
  {
   "cell_type": "code",
   "execution_count": null,
   "metadata": {},
   "outputs": [],
   "source": []
  }
 ],
 "metadata": {
  "interpreter": {
   "hash": "5637242735df105300a10f363d5c0d18b4b77d7105ef62addc8c3980e22cd89c"
  },
  "kernelspec": {
   "display_name": "Python 3.8.8 ('base')",
   "language": "python",
   "name": "python3"
  },
  "language_info": {
   "codemirror_mode": {
    "name": "ipython",
    "version": 3
   },
   "file_extension": ".py",
   "mimetype": "text/x-python",
   "name": "python",
   "nbconvert_exporter": "python",
   "pygments_lexer": "ipython3",
   "version": "3.8.8"
  },
  "orig_nbformat": 4
 },
 "nbformat": 4,
 "nbformat_minor": 2
}
