{
 "cells": [
  {
   "cell_type": "code",
   "execution_count": 1,
   "metadata": {},
   "outputs": [
    {
     "name": "stderr",
     "output_type": "stream",
     "text": [
      "Using Spark's default log4j profile: org/apache/spark/log4j-defaults.properties\n",
      "Setting default log level to \"WARN\".\n",
      "To adjust logging level use sc.setLogLevel(newLevel). For SparkR, use setLogLevel(newLevel).\n",
      "22/03/05 11:09:47 WARN NativeCodeLoader: Unable to load native-hadoop library for your platform... using builtin-java classes where applicable\n",
      "22/03/05 11:09:50 WARN ExecutorAllocationManager: Dynamic allocation without a shuffle service is an experimental feature.\n"
     ]
    }
   ],
   "source": [
    "from pyspark.sql import SparkSession\n",
    "\n",
    "spark_session = SparkSession\\\n",
    "        .builder\\\n",
    "        .master(\"spark://host-192-168-2-218-de1:7077\") \\\n",
    "        .appName(\"Jakob_Haggstrom_test\")\\\n",
    "        .config(\"spark.dynamicAllocation.enabled\", True)\\\n",
    "        .config(\"spark.dynamicAllocation.shuffleTracking.enabled\",True)\\\n",
    "        .config(\"spark.shuffle.service.enabled\", False)\\\n",
    "        .config(\"spark.dynamicAllocation.executorIdleTimeout\",\"30s\")\\\n",
    "        .config(\"spark.executor.cores\",1)\\\n",
    "        .config(\"spark.driver.port\",9998)\\\n",
    "        .config(\"spark.blockManager.port\",10005)\\\n",
    "        .getOrCreate()\n",
    "\n",
    "spark_context = spark_session.sparkContext\n",
    "\n",
    "spark_context.setLogLevel(\"ERROR\")"
   ]
  },
  {
   "cell_type": "code",
   "execution_count": 2,
   "metadata": {},
   "outputs": [
    {
     "name": "stderr",
     "output_type": "stream",
     "text": [
      "                                                                                \r"
     ]
    }
   ],
   "source": [
    "# Read all the data\n",
    "data = spark_session.read.option(\"recursiveFileLookup\", \"true\").json('hdfs://192.168.2.200:9000/user/ubuntu/lastfm_train/B/A')\n",
    "\n",
    "# Read a small subset of data:\n",
    "#data = spark_session.read.json('hdfs://192.168.2.200:9000/user/ubuntu/lastfm_train/B/A/A/*.json')"
   ]
  },
  {
   "cell_type": "code",
   "execution_count": 3,
   "metadata": {},
   "outputs": [
    {
     "name": "stdout",
     "output_type": "stream",
     "text": [
      "root\n",
      " |-- artist: string (nullable = true)\n",
      " |-- similars: array (nullable = true)\n",
      " |    |-- element: array (containsNull = true)\n",
      " |    |    |-- element: string (containsNull = true)\n",
      " |-- tags: array (nullable = true)\n",
      " |    |-- element: array (containsNull = true)\n",
      " |    |    |-- element: string (containsNull = true)\n",
      " |-- timestamp: string (nullable = true)\n",
      " |-- title: string (nullable = true)\n",
      " |-- track_id: string (nullable = true)\n",
      "\n"
     ]
    }
   ],
   "source": [
    "data.printSchema()"
   ]
  },
  {
   "cell_type": "code",
   "execution_count": 16,
   "metadata": {},
   "outputs": [
    {
     "name": "stderr",
     "output_type": "stream",
     "text": [
      "                                                                                \r"
     ]
    },
    {
     "data": {
      "text/plain": [
       "Row(tags_new=['pop', '100', 'rock', '83', 'maroon 5', '78', 'alternative', '59', 'pop rock', '51', 'Love', '27', 'alternative rock', '18', 'she will be loved', '16', 'Ballad', '12', 'Mellow', '10', 'male vocalists', '10', '00s', '9', 'soft rock', '8', 'favorites', '8', 'romantic', '7', 'Maroon5', '7', 'chill', '7', 'american', '6', 'love songs', '6', 'indie', '6', 'beautiful', '6', 'chillout', '5', 'memories', '5', 'sad', '4', 'Pop-Rock', '3', 'acoustic', '3', 'Favorite', '3', 'love song', '3', 'Maroon 5 - She will be loved', '3', 'easy listening', '3', 'relax', '2', 'male vocalist', '2', 'Favourites', '2', 'favorite songs', '2', 'Maroon 5 She Will Be Loved', '2', 'funk', '2', '2004', '2', 'indie rock', '2', 'Sentimental', '2', 'loved', '1', 'slow', '1', 'One Tree Hill', '1', 'sweet', '1', 'ballads', '1', 'nostalgic', '1', 'catchy', '1', 'emo', '1', 'melancholic', '1', 'soft', '1', 'amazing', '1', 'cool', '1', 'Awesome', '1', 'top 40', '1', 'Good Stuff', '1', 'favourite', '1', 'guilty pleasure', '1', 'soul', '1', 'lovely', '1', 'West Coast swing', '1', 'singer-songwriter', '1', 'USA', '1', 'my youth', '1', 'maroon', '1', 'fav', '1', '2000s', '1', 'breaks my heart', '1', 'Guilty Pleasures', '1', 'good', '1', 'Love it', '1', 'falling asleep sadly', '1', 'melodic', '0', 'expressive', '0', 'america', '0', 'poprock', '0', 'adult contemporary', '0', 'Verbotene Liebe', '0', 'The 4400', '0', 'new', '0', 'sadness', '0', 'perfect', '0', '2002', '0', 'broken smile', '0', 'Favourite Songs', '0', 'melancholy', '0', 'zierkafasza', '0', 'smooth', '0', 'personal value', '0', 'sing along', '0', 'lounge', '0', 'anthem', '0', 'romance', '0', 'live', '0', 'great song', '0', 'lyrics', '0', 'jazz', '0', 'RockPop', '0', '4th grade', '0', 'scrobble', '0', 'usa mainstream top 40 number one hit', '0', 'alternative pop', '0'])"
      ]
     },
     "execution_count": 16,
     "metadata": {},
     "output_type": "execute_result"
    }
   ],
   "source": [
    "from pyspark.sql.functions import flatten\n",
    "from pyspark.sql.types import ArrayType, StringType\n",
    "\n",
    "data_new1 = data.withColumn(\"tags_new\", flatten(data.tags))\n",
    "\n",
    "data_new1.select(\"tags_new\").first()\n",
    "\n",
    "\n"
   ]
  },
  {
   "cell_type": "code",
   "execution_count": 21,
   "metadata": {},
   "outputs": [
    {
     "name": "stdout",
     "output_type": "stream",
     "text": [
      "root\n",
      " |-- artist: string (nullable = true)\n",
      " |-- similars: array (nullable = true)\n",
      " |    |-- element: array (containsNull = true)\n",
      " |    |    |-- element: string (containsNull = true)\n",
      " |-- tags: array (nullable = true)\n",
      " |    |-- element: array (containsNull = true)\n",
      " |    |    |-- element: string (containsNull = true)\n",
      " |-- timestamp: string (nullable = true)\n",
      " |-- title: string (nullable = true)\n",
      " |-- track_id: string (nullable = true)\n",
      " |-- tags_new: array (nullable = true)\n",
      " |    |-- element: string (containsNull = true)\n",
      "\n"
     ]
    }
   ],
   "source": [
    "data_new1.printSchema()"
   ]
  },
  {
   "cell_type": "code",
   "execution_count": 22,
   "metadata": {},
   "outputs": [
    {
     "name": "stderr",
     "output_type": "stream",
     "text": [
      "                                                                                \r"
     ]
    },
    {
     "data": {
      "text/plain": [
       "Row(tag_names=['pop', 'rock', 'maroon 5', 'alternative', 'pop rock', 'Love', 'alternative rock', 'she will be loved', 'Ballad', 'Mellow', 'male vocalists', '00s', 'soft rock', 'favorites', 'romantic', 'Maroon5', 'chill', 'american', 'love songs', 'indie', 'beautiful', 'chillout', 'memories', 'sad', 'Pop-Rock', 'acoustic', 'Favorite', 'love song', 'Maroon 5 - She will be loved', 'easy listening', 'relax', 'male vocalist', 'Favourites', 'favorite songs', 'Maroon 5 She Will Be Loved', 'funk', '2004', 'indie rock', 'Sentimental', 'loved', 'slow', 'One Tree Hill', 'sweet', 'ballads', 'nostalgic', 'catchy', 'emo', 'melancholic', 'soft', 'amazing', 'cool', 'Awesome', 'top 40', 'Good Stuff', 'favourite', 'guilty pleasure', 'soul', 'lovely', 'West Coast swing', 'singer-songwriter', 'USA', 'my youth', 'maroon', 'fav', '2000s', 'breaks my heart', 'Guilty Pleasures', 'good', 'Love it', 'falling asleep sadly', 'melodic', 'expressive', 'america', 'poprock', 'adult contemporary', 'Verbotene Liebe', 'The 4400', 'new', 'sadness', 'perfect', '2002', 'broken smile', 'Favourite Songs', 'melancholy', 'zierkafasza', 'smooth', 'personal value', 'sing along', 'lounge', 'anthem', 'romance', 'live', 'great song', 'lyrics', 'jazz', 'RockPop', '4th grade', 'scrobble', 'usa mainstream top 40 number one hit', 'alternative pop'])"
      ]
     },
     "execution_count": 22,
     "metadata": {},
     "output_type": "execute_result"
    }
   ],
   "source": [
    "from pyspark.sql.functions import udf, col\n",
    "\n",
    "map_func_1 = lambda x: x[0::2]\n",
    "udf_1 = udf(map_func_1, ArrayType(StringType()))\n",
    "\n",
    "data_new1 = data_new1.withColumn(\"tag_names\", udf_1(col(\"tags_new\")))\n",
    "\n",
    "data_new1.select(\"tag_names\").first()"
   ]
  },
  {
   "cell_type": "code",
   "execution_count": 30,
   "metadata": {},
   "outputs": [
    {
     "name": "stdout",
     "output_type": "stream",
     "text": [
      "root\n",
      " |-- artist: string (nullable = true)\n",
      " |-- similars: array (nullable = true)\n",
      " |    |-- element: array (containsNull = true)\n",
      " |    |    |-- element: string (containsNull = true)\n",
      " |-- tags: array (nullable = true)\n",
      " |    |-- element: array (containsNull = true)\n",
      " |    |    |-- element: string (containsNull = true)\n",
      " |-- timestamp: string (nullable = true)\n",
      " |-- title: string (nullable = true)\n",
      " |-- track_id: string (nullable = true)\n",
      " |-- tags_new: array (nullable = true)\n",
      " |    |-- element: string (containsNull = true)\n",
      " |-- tag_names: array (nullable = true)\n",
      " |    |-- element: string (containsNull = true)\n",
      " |-- Gender tag: string (nullable = true)\n",
      " |-- Mod_gender_tags: string (nullable = true)\n",
      "\n"
     ]
    }
   ],
   "source": [
    "data_new1.printSchema()\n"
   ]
  },
  {
   "cell_type": "code",
   "execution_count": 34,
   "metadata": {},
   "outputs": [
    {
     "name": "stderr",
     "output_type": "stream",
     "text": [
      "                                                                                \r"
     ]
    },
    {
     "data": {
      "text/plain": [
       "[Row(Gender tag='male'),\n",
       " Row(Gender tag='female'),\n",
       " Row(Gender tag='unknown'),\n",
       " Row(Gender tag='male'),\n",
       " Row(Gender tag='male'),\n",
       " Row(Gender tag='mixed'),\n",
       " Row(Gender tag='male'),\n",
       " Row(Gender tag='female'),\n",
       " Row(Gender tag='female'),\n",
       " Row(Gender tag='female')]"
      ]
     },
     "execution_count": 34,
     "metadata": {},
     "output_type": "execute_result"
    }
   ],
   "source": [
    "def get_gender_tag(lst): \n",
    "        female_lst = ['female vocalist', 'female vocalists']\n",
    "        male_lst = ['male vocalist', 'male vocalists']\n",
    "        mixed_list = [['male vocalist', 'female vocalists'], ['male vocalists', 'female vocalist'], ['male vocalists', 'female vocalists']]\n",
    "\n",
    "        for sub_list in mixed_list: # if any of the combinations in mixed_list occur, then it is mixed\n",
    "                if all(gender in lst for gender in sub_list):\n",
    "                        return 'mixed'\n",
    "        \n",
    "        if any(gender in lst for gender in female_lst): # Grouping together single and multiple vocalists.\n",
    "                return 'female'\n",
    "        if any(gender in lst for gender in male_lst):\n",
    "                return 'male'\n",
    "        \n",
    "        return 'unknown'\n",
    "\n",
    "gender_tag = udf(get_gender_tag, StringType())\n",
    "\n",
    "data_new1 = data_new1.withColumn(\"Gender tag\", gender_tag(col(\"tag_names\")))\n",
    "\n",
    "data_new1.select(\"Gender tag\").take(10)\n",
    "        \n"
   ]
  },
  {
   "cell_type": "code",
   "execution_count": 46,
   "metadata": {},
   "outputs": [
    {
     "name": "stderr",
     "output_type": "stream",
     "text": [
      "                                                                                \r"
     ]
    },
    {
     "data": {
      "text/plain": [
       "[Row(Mod_gender_tags=['pop', 'rock', 'maroon 5', 'alternative', 'pop rock', 'Love', 'alternative rock', 'she will be loved', 'Ballad', 'Mellow', '00s', 'soft rock', 'favorites', 'romantic', 'Maroon5', 'chill', 'american', 'love songs', 'indie', 'beautiful', 'chillout', 'memories', 'sad', 'Pop-Rock', 'acoustic', 'Favorite', 'love song', 'Maroon 5 - She will be loved', 'easy listening', 'relax', 'Favourites', 'favorite songs', 'Maroon 5 She Will Be Loved', 'funk', '2004', 'indie rock', 'Sentimental', 'loved', 'slow', 'One Tree Hill', 'sweet', 'ballads', 'nostalgic', 'catchy', 'emo', 'melancholic', 'soft', 'amazing', 'cool', 'Awesome', 'top 40', 'Good Stuff', 'favourite', 'guilty pleasure', 'soul', 'lovely', 'West Coast swing', 'singer-songwriter', 'USA', 'my youth', 'maroon', 'fav', '2000s', 'breaks my heart', 'Guilty Pleasures', 'good', 'Love it', 'falling asleep sadly', 'melodic', 'expressive', 'america', 'poprock', 'adult contemporary', 'Verbotene Liebe', 'The 4400', 'new', 'sadness', 'perfect', '2002', 'broken smile', 'Favourite Songs', 'melancholy', 'zierkafasza', 'smooth', 'personal value', 'sing along', 'lounge', 'anthem', 'romance', 'live', 'great song', 'lyrics', 'jazz', 'RockPop', '4th grade', 'scrobble', 'usa mainstream top 40 number one hit', 'alternative pop']),\n",
       " Row(Mod_gender_tags=['Disco', '70s', 'dance', 'pop', 'funk', 'oldies', '1979', 'Anita Ward', 'one hit wonder', '80s', 'soul', 'party', '70s disco', 'funky', 'billboard number ones', 'performed on top of the pops', 'i am a party girl here is my soundtrack', 'club', 'discoclassics', 'Ring My Bell', 'happy', 'One Hit Wonders', 'sex', 'disco favorites', 'Classic Disco', 'classic', 'golden oldies', 'classic soul', 'billboard number ones 1970s', 'Pop Music', 'regine-disc', 'old school', 'rock', 'dance musik', 'i bet you wish you was black too', 'remix', 'fout', 'billboard top 20', 'rnb number ones', 'billboard top 10', '2dance', 'lap dance', 'back to my 80s', 'cheesy', 'handclaps', 'soulnetwork-co-uk', 'miianens playlist', 'abarritedicolamadecoa', 'porabuelito', 'fun 70s', 'Mondiovision', 'bass', 'disco party', 'a dance classic', 'matryoshka dolls', 'ramis', 'formerly streamable track wants 07', 'number one hits', 'Megalito', 'Rock  Pop', 'tve', 'greatest rock pop', 'donetes', 'vocals female', 'The Loft - Love Saves the Day', 'batca disco', 'funkdisco', 'streamable track wants', 'my cd collection', 'gia tunes', 'Diary of a Psycho', 'weird music i love', 'beijomeliga', 'dance top', 'remembers', 'favourite', 'damned good', 'Jojoloves', 'uk number one', 'us number one', 'D I S C O', '2 party', 'Anita ward- Ring My Bell', 'pop female vocalists', 'party runner', 'amazing in every way', 'RareGroove', 'mauricio-dancante', 'Love', 'malloy2000 playlist - top songs - classical to metal', 'gh 3', 'funk lift off', 'musicspirit', 'lagrappa pop', 'galaxystardust', 'Great Songs From The Past', 'birthday list', 'meine oldies']),\n",
       " Row(Mod_gender_tags=['oldies', 'rock n roll', '50s', 'rockabilly', 'rock', '60s', 'classic rock', 'Bill Haley and the Comets', 'Bill Haley', 'goldies', 'party', \"rock'n'roll\", 'See you later alligater', 'pop', 'swing', '1956', 'Rock-Roll', 'classics', 'loved', 'oldie', 'dance', '1950s', 'american', 'nostalgie', 'filth music', 'rock 50', 'ferri', 'bianca grooves', 'start dancing', 'kivoja', 'eu gosto de coisa velha', 'perfect guitar', 'linedance', 'Pnk', 'WorkList', 'Haley', '3 star', 'bill hailey', 'vnmm', 'golden classics lucky 13', 'myfavo', 'md-charmy', 'oldisy rzondzom', 'rocknsurf', 'my sweet eighteen', 'Rockin and a rollin', 'dzrt', 'La musica del tio Chu', 'Rock Sunowo', 'spy rock n roll', 'spy 50', 'double-ender 11', 'KDZRT', 'rich oldies', 'linedance 2008', '50musik', 'azalea and magnolia', 'mondo trasho', 'filth track', 'get happy', 'rocknroll', 'short tracks', 'popular', 'animals', 'memories', 'boogie', 'legend', 'male vocals', 'jive', 'filth', 'Retro', 'catchy', 'rocks', 'Favorite Artists', 'fun', 'funky', 'Mellow', 'lindy hop', 'jerry lee lewis', 'dance rock n roll', 'rocanrol', 'Time Machine', 'john waters', 'PSM', 'Vocal Music', '50s and 60s', 'classic rock n roll', 'too short', 'Favourite songs ever', 'weallgetold', 'Rock and Roll', '1 fevrier 2011', 'milgi rockabilly', 'rosis', 'SEE YOU LATER ALLIGATOR ---- BILL HALEY AND THE COMETS', 'diver', 'fhNotBad', 'best', \"Rock n' Roll\", 'mamabu']),\n",
       " Row(Mod_gender_tags=['rock n roll', '50s', 'oldies', 'Rock and Roll', 'rockabilly', 'Eddie Cochran', 'rock', 'classic rock', '60s', '1958', 'rockin', '1959', 'rock-n-roll', 'cool', 'pop', 'Rolling Stone 500 Greatest Songs of All Time', \"Rock 'n' Roll\", 'catchy', 'top artists', 'easy', 'other', 'boogie', 'american', 'favourite', 'party', 'elvis', '1950s', 'rock n roll - surf', 'rolling stones 500 greatest songs', 'week end party', 'rolling stone 500 greatest songs', 'road trip', 'primal rock', 'rockn roll', 'under two minutes', 'Rolling Stones Top 500 Songs of All Time', 'I like', \"rock 'n roll\", 'rollingstone 500 greatest songs of all time', 'best songs of the 50s', 'best 60s', 'golden oldies', 'come on everybody', 'indie', 'dance', 'summer', '50cw', 'elvis y cia cwcafe', 'loved 1', 'Majors beloved FM', 'pachufaces', 'favourite 50s', 'rockitxten', 'rocker cw', 'drive down the coast', 'pepesbar', 'pfon', 'we call it a klassiker', 'brown old radio', 'Mondiovision', 'gb1 oldies', 'gb1 rock n roll', 'celeste nostalgia', 'd4nce d4nce', 'eclectonia', 'rs500', 'start dancing', 'do sports', 'rythmic to me', 'tavfm', 'Imprezka', 'Eddie Cochan', 'rusza', 'lango', 'sid vicous', 'Roll Over', 'ein super Song', 'soulblues', 'GiLA', 'KCDR', 'limdo', 'tilos rock and roll', 'sewing', 'Rock Sunowo', 'like it as it is', 'songs that can change your life', 'web-found', 'moszeed classic rock', 'moodboost', 'Habbe1 Taggradio', 'dakos hall of fame', 'rokkenrol', 'exilboogaloo', 'GH10', 'yannik', 'maypicwcafe', 'Inolvidable S', 'ik ben', 'Cmon Everybody']),\n",
       " Row(Mod_gender_tags=['60s', 'classic rock', 'rock', 'oldies', 'british', 'The Troggs', 'Garage Rock', 'wild thing', 'classic', '1966', 'british invasion', 'pop', 'garage', 'party', 'Rock and Roll', 'rock n roll', '60s rock', 'troggs', \"60's\", 'Battlefield Vietnam', 'one hit wonder', 'favorites', 'oldschool', 'guitar', 'psychedelic', 'Rolling Stone 500 Greatest Songs of All Time', 'Love', 'WildThing', 'the very best of the 60s', 'golden oldies', '1960s', 'beat', 'Rolling Stones Top 500 Songs of All Time', 'Awesome', 'mod', 'cover', 'british 60s', 'wild', '60er', 'Psychedelic Rock', 'rock old school', 'favorite songs', 'glam rock', 'proto punk', 'memories', 'hard rock', 'rock-baladas-rock', 'the beat that my heart skipped sounded like this', 'catchy', 'wild ting', 'sixties', 'I like', 'Rolling Stone Magazine Greatest 500', 'classic rock-baladas', 'acclaimed music top 3000', 'pub rock', 'BeatbabeBop selection', 'to sing and sway to', '60s British Invasion', 'sexy', 'rockabilly soul', 'swwg', 'cool sixties', 'good', 'proto-punk', 'The Troggs - Wild thing', '70s', 'hot hot sex', '77davez-all-tracks', 'Vietnam Era', 'Good Morning Vietnam', 'britt', 'favourite vocals', 'Driving', '500 essential songs', 'that classic rock sound', '60s british rock', 'old party', 'Old skool hippies', 'deeeep', 'not the original', 'Chcesz sie kochac', '60s British', 'maxi lista1', 'Puro Music', 'de todo mio favoritos', 'bujamsie', 'one star', 'phil-oldies', 'gb1 60s', 'gb1 rock n roll', 'wiid thing', 'gb1 oldies', 'we call it a klassiker', 'wucht', 'dziecica', 'm rock', 'swinc', 'gut-drauf-sein']),\n",
       " Row(Mod_gender_tags=['80s', 'Soundtrack', 'pop', 'dirty dancing', 'Love', 'dance', 'oldies', 'romantic', 'duet', 'Soundtracks', 'love songs', 'easy listening', 'romantic hits', 'nostalgic', 'dancing', \"80's\", 'classic rock', 'love song', 'party', 'soul', 'duets', 'rock', '80s Pop', 'soft', '80', 'cheese', 'movie', 'featuring', 'romance', 'oldskool', 'ost', 'feeling good', 'kathrins guilty pleasures', 'I V HAD THE TJME OF MY LIFE', 'golden oldies', 'theme', 'us number one', 'most sentimental', 'Songs played obsessively on repeat at some point', 'movie song', 'favorites', 'movie soundtrack - dirty dancing', 'happy', 'Guilty Pleasures', 'saxophone', '80s rock and hard-rock', 'fH Projex', 'Glitterball fantastic', 'Boston Legal', 'time', 'Gute Laune-Musik', 'start dancing', 'male and female vocals', 'cantando junto', 'shouting-along', 'movie soundtrack', 'bso', 'soundtherapy', 'I love', 'good for dancing to', '80coop', 'pop 80s', 'topcoop', 'love dances', 'last dance', 'Pop Life', 'greatest hits', 'great duets', 'when movies use the perfect song', 'classic tracks', 'beautiful', 'musical', 'guilty pleasure', 'out of our heads', 'sachen die ich gerne hoeren mag', 'gitte', 'bianca smiles', 'bbl1', 'adoroooo', 'RIP Patrick', 'bill medley and jennifer warnes', 'cpluscoop', 'groovecoop', 'Music From Chick Flicks', 'hinterground', 'vomFilm', 'songbook tommy and vinni', 'academy award winner', 'duetos', 'sentyment', 'tnphp-dec27', 'trash80s', 'oscar for best original song', 'duetos woody', 'playlista rmf fm', 'artist - favourite song', 'dance:mambo', 'Balada Pop']),\n",
       " Row(Mod_gender_tags=['rock', 'classic rock', 'aerosmith', '80s', 'hard rock', '90s', 'USA', '1989', 'Ballad', 'american', 'favorites', 'Janies Got a Gun', 'trago', 'murder', 'Massachusetts', 'maggie', 'gun', 'sexual abuse', 'oldies', 'nostalgia', 'roquero', 'hair metal', 'metal', 'Rock and Roll', 'blues rock', 'legend', 'nella se liefies', 'classic', 'pop', '70s', 'rock ballad', 'alternative', 'male fronted', 'Aerosmith-Best', '80s rock', 'sexy', 'love at first listen', 'FUCKING AWESOME', 'chill', 'Stuck on repeat', 'american rock', 'murder ballads', 'title is a full sentence', 'i relate', 'favourite tracks', 'names', 'rock ballads', 'janie', 'my favorite', 'sexayy', 'the kind of song that sends shivers up your spine when you sing along to it', 'Summer Chillin', 'volume up', 'new hampshire', 'loved', 'ouch', 'to listen to while having sex', 'about a girl', '77davez-all-tracks', 'eighties', 'alternative rock', 'Love', 'Favorite', 'favourite', 'slgdm', 'classics', 'Awesome', 'slgdmbestof', 'live', 'cool', 'rockin', 'downtempo', 'tom hamilton', 'Grammy nominated', 'luvd', 'over 5 minutes long', 'mc high school', 'sound storm', 'flya hard rock', 'Geodenise favorites', 'najlepsze', 'formative years', 'emerging from Darkness', 'a buscar', 'kill rapists', 'the best of classic rock', 'I could sing this song forever', 'happy dancing around', 'listened milion times and never got bored even for a second', 'billboard number ones', 'beautifullll', 'kugi to lubi', 'tungt06-', 'to classify', 'MGK', 'laune', 'aerosmith - janies got a gun', 'kedvenc', 'australian number one']),\n",
       " Row(Mod_gender_tags=['pop', 'Britney Spears', 'dance', 'teen pop', 'guilty pleasure', '90s', '00s', 'max martin', 'american', 'sexy', '2000', 'Guilty Pleasures', 'female', 'britney', 'oops', 'upbeat', 'amazing', 'memories', 'Oops I Did It Again', '2000s', 'USA', 'hot', 'fun', 'uk number one', 'top 40', 'High School', 'nostalgia', 'Iconic', 'diva', 'teenpop', 'reminds me of high school', 'bar music', 'skins', 'Bg pop', 'trade-school-years', 'all of my songs', 'The best of Britney Spears', 'the word oops', '2000 singles', 'rnb', 'epic', 'Favorite', 'divas', 'bubblegum', 'catchy', 'rock', 'LKS', 'black metal', 'Slodkie', 'heavy metal', 'Hip-Hop', 'billboard mainstream top 40 number ones', 'hop-bec', 'OOOPS', 'favourite', 'shym', 'webcam strip music', 'zywe', 'the word again', 'brutal slut metal', 'first person songs', 'the word it', '2000 - TWO THOUSAND', 'songs of 2000', 'fave songs ever', 'boxset', \"songs i don't admit to playing\", 'Classical', 'i adore this regardless of how embarrassing it is', 'girlstuff', 'faggotcore', 'spears', 'brisk', 'i did it again', 'mrchris approved', 'shit only a fag would listen to', 'shit only a retard would listen to', 'music to suck cock to', 'Rami', 'best of 2000', '4th grade', 'songs that put me in a good mood', 'me recuerdan a ferin', 'Love', 'uk number one single - 00s', 'funny', 'mi lado petardo', '00s teen pop', 'has it been that long', 'clara morgane', 'lastfm neighborhood radio', 'top50 dr00', 'gjamr', 'my-rave', 'ultimate pop classics', 'my fav girls', 'urban jams', 'this lyrics makes me powerful']),\n",
       " Row(Mod_gender_tags=['dance', 'pop', 'trance', 'cover', 'Love', 'covers', 'Cascada', 'electronica', 'not on spotify', '2006', 'cover song', '00s', 'eurodance', 'german', 'electronic', 'good covers', 'loved', 'lovelovelove', 'better than the original', 'hands up', 'poptrance', 'UK top 40', '2007', 'Super Dance', 'Kimmolle', 'aktuell', 'wanna be loved', 'happy love songs', 'gebchrissi2007', 'Luvvage this choon', 'chillout', 'savage garden cover', 'sad', 'favorites', 'party', '90s', 'Europop', 'Ballad', 'piano', 'females', '2000s', 'Loved up', 'slow dance', 'cover songs', 'Girl', 'sexy', 'charts', '3 stars', 'in my heart forever and ever', 'nrg', 'euro pop', 'awsum beat like lol fukin bril', '<3', 'My Favorite Covers And Samples', 'trancepop', 'cascada truly madly deeply', 'Sousaphonic AOTM 201102']),\n",
       " Row(Mod_gender_tags=['country', 'oldies', 'Love', 'contry', 'My Favorites', 'classic country', 'fivestar', 'sjler', 'cb1', '70s country slow', 'soft rock', 'original better'])]"
      ]
     },
     "execution_count": 46,
     "metadata": {},
     "output_type": "execute_result"
    }
   ],
   "source": [
    "from pyspark.sql.functions import array_remove\n",
    "\n",
    "gender_tags = ['female vocalist', 'female vocalists', 'male vocalist', 'male vocalists']\n",
    "\n",
    "for gender in gender_tags: # Removing the tags that labelled the gender of the vocalist\n",
    "        data_new1 = data_new1.withColumn(\"Mod_gender_tags\", array_remove(data_new1.Mod_gender_tags, gender))\n",
    "\n",
    "\n",
    "\n",
    "data_new1.select(\"Mod_gender_tags\").take(10)"
   ]
  },
  {
   "cell_type": "code",
   "execution_count": 53,
   "metadata": {},
   "outputs": [
    {
     "name": "stdout",
     "output_type": "stream",
     "text": [
      "root\n",
      " |-- Gender tag: string (nullable = true)\n",
      " |-- Mod_gender_tags: array (nullable = true)\n",
      " |    |-- element: string (containsNull = true)\n",
      "\n"
     ]
    }
   ],
   "source": [
    "final_df = data_new1.select(\"Gender tag\", \"Mod_gender_tags\")\n",
    "\n",
    "final_df.printSchema()"
   ]
  },
  {
   "cell_type": "code",
   "execution_count": 54,
   "metadata": {},
   "outputs": [],
   "source": [
    "from pyspark.sql.functions import explode\n",
    "\n",
    "final_df = final_df.select(final_df[\"Gender tag\"], explode(final_df[\"Mod_gender_tags\"]))\n"
   ]
  },
  {
   "cell_type": "code",
   "execution_count": 55,
   "metadata": {},
   "outputs": [
    {
     "name": "stdout",
     "output_type": "stream",
     "text": [
      "root\n",
      " |-- Gender tag: string (nullable = true)\n",
      " |-- col: string (nullable = true)\n",
      "\n"
     ]
    }
   ],
   "source": [
    "final_df.printSchema()"
   ]
  },
  {
   "cell_type": "code",
   "execution_count": 56,
   "metadata": {},
   "outputs": [],
   "source": [
    "final_df = final_df.withColumnRenamed(\"col\", \"Tags\")"
   ]
  },
  {
   "cell_type": "code",
   "execution_count": 59,
   "metadata": {},
   "outputs": [
    {
     "name": "stderr",
     "output_type": "stream",
     "text": [
      "22/03/05 14:34:00 ERROR TransportResponseHandler: Still have 1 requests outstanding when connection from /192.168.2.152:38156 is closed\n",
      "[Stage 28:===================================================>    (38 + 3) / 41]\r"
     ]
    },
    {
     "name": "stdout",
     "output_type": "stream",
     "text": [
      "+-----------------+----------------+\n",
      "|             Tags|Frequency of tag|\n",
      "+-----------------+----------------+\n",
      "|              pop|              36|\n",
      "|             rock|              28|\n",
      "|              00s|              19|\n",
      "|             Love|              19|\n",
      "|            dance|              18|\n",
      "|           female|              18|\n",
      "|singer-songwriter|              17|\n",
      "|             soul|              15|\n",
      "|       electronic|              15|\n",
      "|         american|              13|\n",
      "|        beautiful|              13|\n",
      "|         chillout|              12|\n",
      "|      alternative|              12|\n",
      "|             jazz|              10|\n",
      "|              80s|              10|\n",
      "|              rnb|               9|\n",
      "|             sexy|               9|\n",
      "|        favorites|               9|\n",
      "|             folk|               9|\n",
      "|            indie|               9|\n",
      "+-----------------+----------------+\n",
      "only showing top 20 rows\n",
      "\n"
     ]
    },
    {
     "name": "stderr",
     "output_type": "stream",
     "text": [
      "                                                                                \r"
     ]
    }
   ],
   "source": [
    "# These last lines does essentially the same thing. They count the frequency of each tag for given gender. \n",
    "tag_freq_df_female = final_df.select(\"Tags\").filter(final_df[\"Gender tag\"] == \"female\").groupBy(\"Tags\").agg({\"Tags\": \"count\"})\\\n",
    "        .withColumnRenamed(\"count(Tags)\",\"Frequency of tag\").orderBy(\"Frequency of tag\", ascending=False)\n",
    "\n",
    "tag_freq_df_female.show()"
   ]
  },
  {
   "cell_type": "code",
   "execution_count": 60,
   "metadata": {},
   "outputs": [
    {
     "name": "stderr",
     "output_type": "stream",
     "text": [
      "[Stage 31:======================================================> (40 + 1) / 41]\r"
     ]
    },
    {
     "name": "stdout",
     "output_type": "stream",
     "text": [
      "+-----------------+----------------+\n",
      "|             Tags|Frequency of tag|\n",
      "+-----------------+----------------+\n",
      "|             rock|              30|\n",
      "|              pop|              24|\n",
      "|             Love|              20|\n",
      "|        favorites|              20|\n",
      "|      alternative|              18|\n",
      "|          Awesome|              17|\n",
      "|        beautiful|              15|\n",
      "|            indie|              14|\n",
      "|              00s|              12|\n",
      "| alternative rock|              12|\n",
      "|     classic rock|              12|\n",
      "|         pop rock|              11|\n",
      "|singer-songwriter|              11|\n",
      "|          british|              10|\n",
      "|           catchy|              10|\n",
      "|         american|              10|\n",
      "|              sad|              10|\n",
      "|           oldies|              10|\n",
      "|           Ballad|               9|\n",
      "|             cool|               9|\n",
      "+-----------------+----------------+\n",
      "only showing top 20 rows\n",
      "\n"
     ]
    },
    {
     "name": "stderr",
     "output_type": "stream",
     "text": [
      "                                                                                \r"
     ]
    }
   ],
   "source": [
    "tag_freq_df_male = final_df.select(\"Tags\").filter(final_df[\"Gender tag\"] == \"male\").groupBy(\"Tags\").agg({\"Tags\": \"count\"})\\\n",
    "        .withColumnRenamed(\"count(Tags)\",\"Frequency of tag\").orderBy(\"Frequency of tag\", ascending=False)\n",
    "\n",
    "tag_freq_df_male.show()"
   ]
  },
  {
   "cell_type": "code",
   "execution_count": 61,
   "metadata": {},
   "outputs": [
    {
     "name": "stderr",
     "output_type": "stream",
     "text": [
      "[Stage 34:=====================================================>  (39 + 2) / 41]\r"
     ]
    },
    {
     "name": "stdout",
     "output_type": "stream",
     "text": [
      "+-----------------+----------------+\n",
      "|             Tags|Frequency of tag|\n",
      "+-----------------+----------------+\n",
      "|             rock|              30|\n",
      "|              pop|              24|\n",
      "|             Love|              20|\n",
      "|        favorites|              20|\n",
      "|      alternative|              18|\n",
      "|          Awesome|              17|\n",
      "|        beautiful|              15|\n",
      "|            indie|              14|\n",
      "|              00s|              12|\n",
      "| alternative rock|              12|\n",
      "|     classic rock|              12|\n",
      "|         pop rock|              11|\n",
      "|singer-songwriter|              11|\n",
      "|         american|              10|\n",
      "|          british|              10|\n",
      "|           catchy|              10|\n",
      "|              sad|              10|\n",
      "|           oldies|              10|\n",
      "|           Ballad|               9|\n",
      "|             cool|               9|\n",
      "+-----------------+----------------+\n",
      "only showing top 20 rows\n",
      "\n"
     ]
    },
    {
     "name": "stderr",
     "output_type": "stream",
     "text": [
      "                                                                                \r"
     ]
    }
   ],
   "source": [
    "tag_freq_df_mixed = final_df.select(\"Tags\").filter(final_df[\"Gender tag\"] == \"mixed\").groupBy(\"Tags\").agg({\"Tags\": \"count\"})\\\n",
    "        .withColumnRenamed(\"count(Tags)\",\"Frequency of tag\").orderBy(\"Frequency of tag\", ascending=False)\n"
   ]
  },
  {
   "cell_type": "code",
   "execution_count": 62,
   "metadata": {},
   "outputs": [
    {
     "name": "stderr",
     "output_type": "stream",
     "text": [
      "[Stage 37:======================================================> (40 + 1) / 41]\r"
     ]
    },
    {
     "name": "stdout",
     "output_type": "stream",
     "text": [
      "+--------------------+----------------+\n",
      "|                Tags|Frequency of tag|\n",
      "+--------------------+----------------+\n",
      "|          Soundtrack|               2|\n",
      "|                 pop|               2|\n",
      "|                rock|               2|\n",
      "|           beautiful|               2|\n",
      "|               party|               2|\n",
      "|           nostalgic|               2|\n",
      "|      easy listening|               2|\n",
      "|           favorites|               2|\n",
      "|               dance|               2|\n",
      "|                duet|               2|\n",
      "|               happy|               2|\n",
      "|                Love|               2|\n",
      "|          last dance|               1|\n",
      "|           sentyment|               1|\n",
      "|Music From Chick ...|               1|\n",
      "|            Pop Life|               1|\n",
      "|        feeling good|               1|\n",
      "|            romantic|               1|\n",
      "|            adoroooo|               1|\n",
      "|         tnphp-dec27|               1|\n",
      "+--------------------+----------------+\n",
      "only showing top 20 rows\n",
      "\n"
     ]
    },
    {
     "name": "stderr",
     "output_type": "stream",
     "text": [
      "                                                                                \r"
     ]
    }
   ],
   "source": [
    "tag_freq_df_mixed.show()"
   ]
  },
  {
   "cell_type": "code",
   "execution_count": 63,
   "metadata": {},
   "outputs": [],
   "source": [
    "spark_context.stop()"
   ]
  }
 ],
 "metadata": {
  "interpreter": {
   "hash": "916dbcbb3f70747c44a77c7bcd40155683ae19c65e1c03b4aa3499c5328201f1"
  },
  "kernelspec": {
   "display_name": "Python 3.8.10 64-bit",
   "language": "python",
   "name": "python3"
  },
  "language_info": {
   "codemirror_mode": {
    "name": "ipython",
    "version": 3
   },
   "file_extension": ".py",
   "mimetype": "text/x-python",
   "name": "python",
   "nbconvert_exporter": "python",
   "pygments_lexer": "ipython3",
   "version": "3.8.10"
  },
  "orig_nbformat": 4
 },
 "nbformat": 4,
 "nbformat_minor": 2
}
