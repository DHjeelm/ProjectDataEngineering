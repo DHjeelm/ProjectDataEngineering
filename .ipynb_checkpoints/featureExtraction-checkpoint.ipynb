{
 "cells": [
  {
   "cell_type": "code",
   "execution_count": 1,
   "metadata": {},
   "outputs": [
    {
     "name": "stderr",
     "output_type": "stream",
     "text": [
      "Using Spark's default log4j profile: org/apache/spark/log4j-defaults.properties\n",
      "Setting default log level to \"WARN\".\n",
      "To adjust logging level use sc.setLogLevel(newLevel). For SparkR, use setLogLevel(newLevel).\n",
      "22/03/04 07:19:59 WARN NativeCodeLoader: Unable to load native-hadoop library for your platform... using builtin-java classes where applicable\n",
      "22/03/04 07:20:03 WARN ExecutorAllocationManager: Dynamic allocation without a shuffle service is an experimental feature.\n"
     ]
    }
   ],
   "source": [
    "from pyspark.sql import SparkSession\n",
    "from operator import add\n",
    "\n",
    "# New API\n",
    "spark_session = SparkSession\\\n",
    "        .builder\\\n",
    "        .master(\"spark://192.168.2.218:7077\") \\\n",
    "        .appName(\"Daniel_Hjelm_Test\")\\\n",
    "        .config(\"spark.executor.cores\",1)\\\n",
    "        .config(\"spark.dynamicAllocation.enabled\", True)\\\n",
    "        .config(\"spark.dynamicAllocation.shuffleTracking.enabled\", True)\\\n",
    "        .config(\"spark.shuffle.service.enabled\", False)\\\n",
    "        .config(\"spark.dynamicAllocation.executorIdleTimeout\",\"30s\")\\\n",
    "        .config(\"spark.driver.port\",9998)\\\n",
    "        .config(\"spark.blockManager.port\",10005)\\\n",
    "        .getOrCreate()\n",
    "\n",
    "spark_context = spark_session.sparkContext\n",
    "\n",
    "spark_context.setLogLevel(\"ERROR\")"
   ]
  },
  {
   "cell_type": "code",
   "execution_count": 168,
   "metadata": {},
   "outputs": [
    {
     "name": "stderr",
     "output_type": "stream",
     "text": [
      "                                                                                \r"
     ]
    }
   ],
   "source": [
    "# Read all the data\n",
    "data = spark_session.read.option(\"recursiveFileLookup\", \"true\").json('hdfs://192.168.2.200:9000/user/ubuntu/lastfm_train/B/A')\n",
    "\n",
    "# Read a small subset of data:\n",
    "#data = spark_session.read.json('hdfs://192.168.2.200:9000/user/ubuntu/lastfm_train/B/A/A/*.json')"
   ]
  },
  {
   "cell_type": "code",
   "execution_count": 169,
   "metadata": {},
   "outputs": [
    {
     "name": "stderr",
     "output_type": "stream",
     "text": [
      "                                                                                \r"
     ]
    },
    {
     "data": {
      "text/plain": [
       "1289"
      ]
     },
     "execution_count": 169,
     "metadata": {},
     "output_type": "execute_result"
    }
   ],
   "source": [
    "# Count the amount of rows in the dataset\n",
    "data.count()"
   ]
  },
  {
   "cell_type": "code",
   "execution_count": 170,
   "metadata": {},
   "outputs": [
    {
     "name": "stdout",
     "output_type": "stream",
     "text": [
      "+--------------------+--------------------+--------------------+--------------------+--------------------+------------------+\n",
      "|              artist|            similars|                tags|           timestamp|               title|          track_id|\n",
      "+--------------------+--------------------+--------------------+--------------------+--------------------+------------------+\n",
      "|            Maroon 5|[[TRZHXFO128F9302...|[[pop, 100], [roc...|2011-08-02 20:57:...|   She Will Be Loved|TRBAMHJ128F9302A08|\n",
      "|          Anita Ward|[[TRQCINT128F4245...|[[Disco, 100], [7...|2011-08-15 12:34:...|        Ring My Bell|TRBASRX128F92E9CD1|\n",
      "|Bill Haley and th...|[[TRISKEM128F427D...|[[oldies, 100], [...|2011-08-02 09:55:...|See You Later All...|TRBAJNU128F4260039|\n",
      "|       Eddie Cochran|[[TRIEPQF128F9329...|[[rock n roll, 10...|2011-08-11 20:51:...|     C'mon Everybody|TRBAMXP128F92FC856|\n",
      "|          The Troggs|[[TRGQCBQ12903CBC...|[[60s, 100], [cla...|2011-08-05 01:01:...|          Wild Thing|TRBAKTC128F93358D6|\n",
      "|Bill Medley & Jen...|[[TRZVLLV128F4288...|[[80s, 100], [Sou...|2011-08-12 08:57:...|(I've Had) The Ti...|TRBAOSL12903CA4519|\n",
      "|           Aerosmith|[[TRITYXQ128E078E...|[[rock, 100], [cl...|2011-08-01 09:53:...|   Janie's Got A Gun|TRBARHH128E078EDE9|\n",
      "|      Britney Spears|[[TRRTNCU128F92F1...|[[pop, 100], [Bri...|2011-08-03 04:33:...|Oops!...I Did It ...|TRBAUVN128F932FEF8|\n",
      "|             Cascada|[[TRABGIN128F14B0...|[[dance, 100], [p...|2011-08-02 13:58:...|  Truly Madly Deeply|TRBATIF128F149246C|\n",
      "|    Billie Jo Spears|[[TRGLHUS128F4294...|[[country, 100], ...|2011-08-08 11:47:...|          Misty Blue|TRBALVT128F145B6CB|\n",
      "|        Hall & Oates|[[TRBGGWQ128F42A8...|[[80s, 100], [pop...|2011-08-10 02:56:...|  You Make My Dreams|TRBAYLZ128F933841B|\n",
      "|        Annie Lennox|[[TRGZFJY128F92EE...|[[pop, 100], [fem...|2011-08-09 00:18:...|         Little Bird|TRBAFJQ128F4259FB5|\n",
      "|     Whitney Houston|[[TRQIESP128F428C...|[[pop, 100], [80s...|2011-08-01 17:54:...|Didn't We Almost ...|TRBAFNH128F428CB96|\n",
      "|             Shakira|[[TRNQSMA128F427D...|[[pop, 100], [lat...|2011-08-10 22:03:...|   Objection (Tango)|TRBAHID128F4278EAF|\n",
      "|           New Order|[[TRTDOCL128E0787...|[[80s, 100], [new...|2011-08-11 19:08:...|           Fine Time|TRBAELY128F92EB8F2|\n",
      "|               Cream|[[TRGEBPX128E0792...|[[classic rock, 1...|2011-08-05 07:12:...|      Wrapping Paper|TRBAMAL128F421431D|\n",
      "|         Cheap Trick|[[TRGZMGO128F4267...|[[classic rock, 1...|2011-08-09 17:38:...|        Dream Police|TRBAMVV128F930B5A1|\n",
      "|          Nickelback|[[TRYBLTX128F426B...|[[rock, 100], [al...|2011-08-02 00:55:...|           Savin' Me|TRBASRX12903C9FDA8|\n",
      "|          Frankmusik|[[TRFVVHR128F9331...|[[electronic, 100...|2011-08-11 08:30:...|             In Step|TRBAZWU128F9331B4D|\n",
      "|         Bad Company|[[TRMQUSZ12903CF7...|[[classic rock, 1...|2011-08-08 23:14:...|         Rock Steady|TRBAVMF12903CEA4FB|\n",
      "+--------------------+--------------------+--------------------+--------------------+--------------------+------------------+\n",
      "only showing top 20 rows\n",
      "\n"
     ]
    }
   ],
   "source": [
    "# Display the data\n",
    "data.show()"
   ]
  },
  {
   "cell_type": "code",
   "execution_count": 160,
   "metadata": {},
   "outputs": [
    {
     "name": "stderr",
     "output_type": "stream",
     "text": [
      "                                                                                \r"
     ]
    },
    {
     "data": {
      "text/plain": [
       "1289"
      ]
     },
     "execution_count": 160,
     "metadata": {},
     "output_type": "execute_result"
    }
   ],
   "source": [
    "# Flatten the tags column\n",
    "# newData = data.select(flatten(data.tags).alias(\"new tags\"))\n",
    "# newData.count()"
   ]
  },
  {
   "cell_type": "code",
   "execution_count": 174,
   "metadata": {},
   "outputs": [
    {
     "name": "stdout",
     "output_type": "stream",
     "text": [
      "+--------------------+--------------------+--------------------+--------------------+--------------------+------------------+--------------------+\n",
      "|              artist|            similars|                tags|           timestamp|               title|          track_id|            new tags|\n",
      "+--------------------+--------------------+--------------------+--------------------+--------------------+------------------+--------------------+\n",
      "|            Maroon 5|[[TRZHXFO128F9302...|[[pop, 100], [roc...|2011-08-02 20:57:...|   She Will Be Loved|TRBAMHJ128F9302A08|[pop, 100, rock, ...|\n",
      "|          Anita Ward|[[TRQCINT128F4245...|[[Disco, 100], [7...|2011-08-15 12:34:...|        Ring My Bell|TRBASRX128F92E9CD1|[Disco, 100, 70s,...|\n",
      "|Bill Haley and th...|[[TRISKEM128F427D...|[[oldies, 100], [...|2011-08-02 09:55:...|See You Later All...|TRBAJNU128F4260039|[oldies, 100, roc...|\n",
      "|       Eddie Cochran|[[TRIEPQF128F9329...|[[rock n roll, 10...|2011-08-11 20:51:...|     C'mon Everybody|TRBAMXP128F92FC856|[rock n roll, 100...|\n",
      "|          The Troggs|[[TRGQCBQ12903CBC...|[[60s, 100], [cla...|2011-08-05 01:01:...|          Wild Thing|TRBAKTC128F93358D6|[60s, 100, classi...|\n",
      "|Bill Medley & Jen...|[[TRZVLLV128F4288...|[[80s, 100], [Sou...|2011-08-12 08:57:...|(I've Had) The Ti...|TRBAOSL12903CA4519|[80s, 100, Soundt...|\n",
      "|           Aerosmith|[[TRITYXQ128E078E...|[[rock, 100], [cl...|2011-08-01 09:53:...|   Janie's Got A Gun|TRBARHH128E078EDE9|[rock, 100, class...|\n",
      "|      Britney Spears|[[TRRTNCU128F92F1...|[[pop, 100], [Bri...|2011-08-03 04:33:...|Oops!...I Did It ...|TRBAUVN128F932FEF8|[pop, 100, Britne...|\n",
      "|             Cascada|[[TRABGIN128F14B0...|[[dance, 100], [p...|2011-08-02 13:58:...|  Truly Madly Deeply|TRBATIF128F149246C|[dance, 100, pop,...|\n",
      "|    Billie Jo Spears|[[TRGLHUS128F4294...|[[country, 100], ...|2011-08-08 11:47:...|          Misty Blue|TRBALVT128F145B6CB|[country, 100, ol...|\n",
      "|        Hall & Oates|[[TRBGGWQ128F42A8...|[[80s, 100], [pop...|2011-08-10 02:56:...|  You Make My Dreams|TRBAYLZ128F933841B|[80s, 100, pop, 6...|\n",
      "|        Annie Lennox|[[TRGZFJY128F92EE...|[[pop, 100], [fem...|2011-08-09 00:18:...|         Little Bird|TRBAFJQ128F4259FB5|[pop, 100, female...|\n",
      "|     Whitney Houston|[[TRQIESP128F428C...|[[pop, 100], [80s...|2011-08-01 17:54:...|Didn't We Almost ...|TRBAFNH128F428CB96|[pop, 100, 80s, 8...|\n",
      "|             Shakira|[[TRNQSMA128F427D...|[[pop, 100], [lat...|2011-08-10 22:03:...|   Objection (Tango)|TRBAHID128F4278EAF|[pop, 100, latin,...|\n",
      "|           New Order|[[TRTDOCL128E0787...|[[80s, 100], [new...|2011-08-11 19:08:...|           Fine Time|TRBAELY128F92EB8F2|[80s, 100, new wa...|\n",
      "|               Cream|[[TRGEBPX128E0792...|[[classic rock, 1...|2011-08-05 07:12:...|      Wrapping Paper|TRBAMAL128F421431D|[classic rock, 10...|\n",
      "|         Cheap Trick|[[TRGZMGO128F4267...|[[classic rock, 1...|2011-08-09 17:38:...|        Dream Police|TRBAMVV128F930B5A1|[classic rock, 10...|\n",
      "|          Nickelback|[[TRYBLTX128F426B...|[[rock, 100], [al...|2011-08-02 00:55:...|           Savin' Me|TRBASRX12903C9FDA8|[rock, 100, alter...|\n",
      "|          Frankmusik|[[TRFVVHR128F9331...|[[electronic, 100...|2011-08-11 08:30:...|             In Step|TRBAZWU128F9331B4D|[electronic, 100,...|\n",
      "|         Bad Company|[[TRMQUSZ12903CF7...|[[classic rock, 1...|2011-08-08 23:14:...|         Rock Steady|TRBAVMF12903CEA4FB|[classic rock, 10...|\n",
      "+--------------------+--------------------+--------------------+--------------------+--------------------+------------------+--------------------+\n",
      "only showing top 20 rows\n",
      "\n"
     ]
    }
   ],
   "source": [
    "# Flatten the tags column\n",
    "dataframe = data.withColumn(\"new tags\", flatten(data.tags))\n",
    "dataframe.show()"
   ]
  },
  {
   "cell_type": "code",
   "execution_count": 164,
   "metadata": {},
   "outputs": [
    {
     "ename": "AnalysisException",
     "evalue": "Union can only be performed on tables with the same number of columns, but the first table has 6 columns and the second table has 1 columns;\n'Union false, false\n:- Relation [artist#7,similars#8,tags#9,timestamp#10,title#11,track_id#12] json\n+- Project [flatten(tags#1207) AS new tags#1186]\n   +- Relation [artist#1205,similars#1206,tags#1207,timestamp#1208,title#1209,track_id#1210] json\n",
     "output_type": "error",
     "traceback": [
      "\u001b[0;31m---------------------------------------------------------------------------\u001b[0m",
      "\u001b[0;31mAnalysisException\u001b[0m                         Traceback (most recent call last)",
      "Input \u001b[0;32mIn [164]\u001b[0m, in \u001b[0;36m<cell line: 2>\u001b[0;34m()\u001b[0m\n\u001b[1;32m      1\u001b[0m \u001b[38;5;66;03m# Join it with original data\u001b[39;00m\n\u001b[0;32m----> 2\u001b[0m dataframe \u001b[38;5;241m=\u001b[39m \u001b[43mdata\u001b[49m\u001b[38;5;241;43m.\u001b[39;49m\u001b[43munionAll\u001b[49m\u001b[43m(\u001b[49m\u001b[43mnewData\u001b[49m\u001b[43m)\u001b[49m\n",
      "File \u001b[0;32m~/.local/lib/python3.8/site-packages/pyspark/sql/dataframe.py:1856\u001b[0m, in \u001b[0;36mDataFrame.unionAll\u001b[0;34m(self, other)\u001b[0m\n\u001b[1;32m   1846\u001b[0m \u001b[38;5;129m@since\u001b[39m(\u001b[38;5;241m1.3\u001b[39m)\n\u001b[1;32m   1847\u001b[0m \u001b[38;5;28;01mdef\u001b[39;00m \u001b[38;5;21munionAll\u001b[39m(\u001b[38;5;28mself\u001b[39m, other):\n\u001b[1;32m   1848\u001b[0m     \u001b[38;5;124;03m\"\"\" Return a new :class:`DataFrame` containing union of rows in this and another\u001b[39;00m\n\u001b[1;32m   1849\u001b[0m \u001b[38;5;124;03m    :class:`DataFrame`.\u001b[39;00m\n\u001b[1;32m   1850\u001b[0m \n\u001b[0;32m   (...)\u001b[0m\n\u001b[1;32m   1854\u001b[0m \u001b[38;5;124;03m    Also as standard in SQL, this function resolves columns by position (not by name).\u001b[39;00m\n\u001b[1;32m   1855\u001b[0m \u001b[38;5;124;03m    \"\"\"\u001b[39;00m\n\u001b[0;32m-> 1856\u001b[0m     \u001b[38;5;28;01mreturn\u001b[39;00m \u001b[38;5;28;43mself\u001b[39;49m\u001b[38;5;241;43m.\u001b[39;49m\u001b[43munion\u001b[49m\u001b[43m(\u001b[49m\u001b[43mother\u001b[49m\u001b[43m)\u001b[49m\n",
      "File \u001b[0;32m~/.local/lib/python3.8/site-packages/pyspark/sql/dataframe.py:1844\u001b[0m, in \u001b[0;36mDataFrame.union\u001b[0;34m(self, other)\u001b[0m\n\u001b[1;32m   1834\u001b[0m \u001b[38;5;129m@since\u001b[39m(\u001b[38;5;241m2.0\u001b[39m)\n\u001b[1;32m   1835\u001b[0m \u001b[38;5;28;01mdef\u001b[39;00m \u001b[38;5;21munion\u001b[39m(\u001b[38;5;28mself\u001b[39m, other):\n\u001b[1;32m   1836\u001b[0m     \u001b[38;5;124;03m\"\"\" Return a new :class:`DataFrame` containing union of rows in this and another\u001b[39;00m\n\u001b[1;32m   1837\u001b[0m \u001b[38;5;124;03m    :class:`DataFrame`.\u001b[39;00m\n\u001b[1;32m   1838\u001b[0m \n\u001b[0;32m   (...)\u001b[0m\n\u001b[1;32m   1842\u001b[0m \u001b[38;5;124;03m    Also as standard in SQL, this function resolves columns by position (not by name).\u001b[39;00m\n\u001b[1;32m   1843\u001b[0m \u001b[38;5;124;03m    \"\"\"\u001b[39;00m\n\u001b[0;32m-> 1844\u001b[0m     \u001b[38;5;28;01mreturn\u001b[39;00m DataFrame(\u001b[38;5;28;43mself\u001b[39;49m\u001b[38;5;241;43m.\u001b[39;49m\u001b[43m_jdf\u001b[49m\u001b[38;5;241;43m.\u001b[39;49m\u001b[43munion\u001b[49m\u001b[43m(\u001b[49m\u001b[43mother\u001b[49m\u001b[38;5;241;43m.\u001b[39;49m\u001b[43m_jdf\u001b[49m\u001b[43m)\u001b[49m, \u001b[38;5;28mself\u001b[39m\u001b[38;5;241m.\u001b[39msql_ctx)\n",
      "File \u001b[0;32m~/.local/lib/python3.8/site-packages/py4j/java_gateway.py:1321\u001b[0m, in \u001b[0;36mJavaMember.__call__\u001b[0;34m(self, *args)\u001b[0m\n\u001b[1;32m   1315\u001b[0m command \u001b[38;5;241m=\u001b[39m proto\u001b[38;5;241m.\u001b[39mCALL_COMMAND_NAME \u001b[38;5;241m+\u001b[39m\\\n\u001b[1;32m   1316\u001b[0m     \u001b[38;5;28mself\u001b[39m\u001b[38;5;241m.\u001b[39mcommand_header \u001b[38;5;241m+\u001b[39m\\\n\u001b[1;32m   1317\u001b[0m     args_command \u001b[38;5;241m+\u001b[39m\\\n\u001b[1;32m   1318\u001b[0m     proto\u001b[38;5;241m.\u001b[39mEND_COMMAND_PART\n\u001b[1;32m   1320\u001b[0m answer \u001b[38;5;241m=\u001b[39m \u001b[38;5;28mself\u001b[39m\u001b[38;5;241m.\u001b[39mgateway_client\u001b[38;5;241m.\u001b[39msend_command(command)\n\u001b[0;32m-> 1321\u001b[0m return_value \u001b[38;5;241m=\u001b[39m \u001b[43mget_return_value\u001b[49m\u001b[43m(\u001b[49m\n\u001b[1;32m   1322\u001b[0m \u001b[43m    \u001b[49m\u001b[43manswer\u001b[49m\u001b[43m,\u001b[49m\u001b[43m \u001b[49m\u001b[38;5;28;43mself\u001b[39;49m\u001b[38;5;241;43m.\u001b[39;49m\u001b[43mgateway_client\u001b[49m\u001b[43m,\u001b[49m\u001b[43m \u001b[49m\u001b[38;5;28;43mself\u001b[39;49m\u001b[38;5;241;43m.\u001b[39;49m\u001b[43mtarget_id\u001b[49m\u001b[43m,\u001b[49m\u001b[43m \u001b[49m\u001b[38;5;28;43mself\u001b[39;49m\u001b[38;5;241;43m.\u001b[39;49m\u001b[43mname\u001b[49m\u001b[43m)\u001b[49m\n\u001b[1;32m   1324\u001b[0m \u001b[38;5;28;01mfor\u001b[39;00m temp_arg \u001b[38;5;129;01min\u001b[39;00m temp_args:\n\u001b[1;32m   1325\u001b[0m     temp_arg\u001b[38;5;241m.\u001b[39m_detach()\n",
      "File \u001b[0;32m~/.local/lib/python3.8/site-packages/pyspark/sql/utils.py:117\u001b[0m, in \u001b[0;36mcapture_sql_exception.<locals>.deco\u001b[0;34m(*a, **kw)\u001b[0m\n\u001b[1;32m    113\u001b[0m converted \u001b[38;5;241m=\u001b[39m convert_exception(e\u001b[38;5;241m.\u001b[39mjava_exception)\n\u001b[1;32m    114\u001b[0m \u001b[38;5;28;01mif\u001b[39;00m \u001b[38;5;129;01mnot\u001b[39;00m \u001b[38;5;28misinstance\u001b[39m(converted, UnknownException):\n\u001b[1;32m    115\u001b[0m     \u001b[38;5;66;03m# Hide where the exception came from that shows a non-Pythonic\u001b[39;00m\n\u001b[1;32m    116\u001b[0m     \u001b[38;5;66;03m# JVM exception message.\u001b[39;00m\n\u001b[0;32m--> 117\u001b[0m     \u001b[38;5;28;01mraise\u001b[39;00m converted \u001b[38;5;28;01mfrom\u001b[39;00m \u001b[38;5;28mNone\u001b[39m\n\u001b[1;32m    118\u001b[0m \u001b[38;5;28;01melse\u001b[39;00m:\n\u001b[1;32m    119\u001b[0m     \u001b[38;5;28;01mraise\u001b[39;00m\n",
      "\u001b[0;31mAnalysisException\u001b[0m: Union can only be performed on tables with the same number of columns, but the first table has 6 columns and the second table has 1 columns;\n'Union false, false\n:- Relation [artist#7,similars#8,tags#9,timestamp#10,title#11,track_id#12] json\n+- Project [flatten(tags#1207) AS new tags#1186]\n   +- Relation [artist#1205,similars#1206,tags#1207,timestamp#1208,title#1209,track_id#1210] json\n"
     ]
    }
   ],
   "source": [
    "# Join it with original data\n"
   ]
  },
  {
   "cell_type": "code",
   "execution_count": 175,
   "metadata": {},
   "outputs": [
    {
     "name": "stdout",
     "output_type": "stream",
     "text": [
      "root\n",
      " |-- artist: string (nullable = true)\n",
      " |-- similars: array (nullable = true)\n",
      " |    |-- element: array (containsNull = true)\n",
      " |    |    |-- element: string (containsNull = true)\n",
      " |-- tags: array (nullable = true)\n",
      " |    |-- element: array (containsNull = true)\n",
      " |    |    |-- element: string (containsNull = true)\n",
      " |-- timestamp: string (nullable = true)\n",
      " |-- title: string (nullable = true)\n",
      " |-- track_id: string (nullable = true)\n",
      " |-- new tags: array (nullable = true)\n",
      " |    |-- element: string (containsNull = true)\n",
      "\n"
     ]
    }
   ],
   "source": [
    "dataframe.printSchema()"
   ]
  },
  {
   "cell_type": "code",
   "execution_count": 176,
   "metadata": {},
   "outputs": [
    {
     "name": "stderr",
     "output_type": "stream",
     "text": [
      "                                                                                \r"
     ]
    },
    {
     "data": {
      "text/plain": [
       "1289"
      ]
     },
     "execution_count": 176,
     "metadata": {},
     "output_type": "execute_result"
    }
   ],
   "source": [
    "dataframe.count()"
   ]
  },
  {
   "cell_type": "code",
   "execution_count": 177,
   "metadata": {},
   "outputs": [
    {
     "name": "stdout",
     "output_type": "stream",
     "text": [
      "+--------------------+--------------------+--------------------+--------------------+--------------------+------------------+--------------------+\n",
      "|              artist|            similars|                tags|           timestamp|               title|          track_id|            new tags|\n",
      "+--------------------+--------------------+--------------------+--------------------+--------------------+------------------+--------------------+\n",
      "|            Maroon 5|[[TRZHXFO128F9302...|[[pop, 100], [roc...|2011-08-02 20:57:...|   She Will Be Loved|TRBAMHJ128F9302A08|[pop, 100, rock, ...|\n",
      "|          Anita Ward|[[TRQCINT128F4245...|[[Disco, 100], [7...|2011-08-15 12:34:...|        Ring My Bell|TRBASRX128F92E9CD1|[Disco, 100, 70s,...|\n",
      "|Bill Haley and th...|[[TRISKEM128F427D...|[[oldies, 100], [...|2011-08-02 09:55:...|See You Later All...|TRBAJNU128F4260039|[oldies, 100, roc...|\n",
      "|       Eddie Cochran|[[TRIEPQF128F9329...|[[rock n roll, 10...|2011-08-11 20:51:...|     C'mon Everybody|TRBAMXP128F92FC856|[rock n roll, 100...|\n",
      "|          The Troggs|[[TRGQCBQ12903CBC...|[[60s, 100], [cla...|2011-08-05 01:01:...|          Wild Thing|TRBAKTC128F93358D6|[60s, 100, classi...|\n",
      "|Bill Medley & Jen...|[[TRZVLLV128F4288...|[[80s, 100], [Sou...|2011-08-12 08:57:...|(I've Had) The Ti...|TRBAOSL12903CA4519|[80s, 100, Soundt...|\n",
      "|           Aerosmith|[[TRITYXQ128E078E...|[[rock, 100], [cl...|2011-08-01 09:53:...|   Janie's Got A Gun|TRBARHH128E078EDE9|[rock, 100, class...|\n",
      "|      Britney Spears|[[TRRTNCU128F92F1...|[[pop, 100], [Bri...|2011-08-03 04:33:...|Oops!...I Did It ...|TRBAUVN128F932FEF8|[pop, 100, Britne...|\n",
      "|             Cascada|[[TRABGIN128F14B0...|[[dance, 100], [p...|2011-08-02 13:58:...|  Truly Madly Deeply|TRBATIF128F149246C|[dance, 100, pop,...|\n",
      "|    Billie Jo Spears|[[TRGLHUS128F4294...|[[country, 100], ...|2011-08-08 11:47:...|          Misty Blue|TRBALVT128F145B6CB|[country, 100, ol...|\n",
      "|        Hall & Oates|[[TRBGGWQ128F42A8...|[[80s, 100], [pop...|2011-08-10 02:56:...|  You Make My Dreams|TRBAYLZ128F933841B|[80s, 100, pop, 6...|\n",
      "|        Annie Lennox|[[TRGZFJY128F92EE...|[[pop, 100], [fem...|2011-08-09 00:18:...|         Little Bird|TRBAFJQ128F4259FB5|[pop, 100, female...|\n",
      "|     Whitney Houston|[[TRQIESP128F428C...|[[pop, 100], [80s...|2011-08-01 17:54:...|Didn't We Almost ...|TRBAFNH128F428CB96|[pop, 100, 80s, 8...|\n",
      "|             Shakira|[[TRNQSMA128F427D...|[[pop, 100], [lat...|2011-08-10 22:03:...|   Objection (Tango)|TRBAHID128F4278EAF|[pop, 100, latin,...|\n",
      "|           New Order|[[TRTDOCL128E0787...|[[80s, 100], [new...|2011-08-11 19:08:...|           Fine Time|TRBAELY128F92EB8F2|[80s, 100, new wa...|\n",
      "|               Cream|[[TRGEBPX128E0792...|[[classic rock, 1...|2011-08-05 07:12:...|      Wrapping Paper|TRBAMAL128F421431D|[classic rock, 10...|\n",
      "|         Cheap Trick|[[TRGZMGO128F4267...|[[classic rock, 1...|2011-08-09 17:38:...|        Dream Police|TRBAMVV128F930B5A1|[classic rock, 10...|\n",
      "|          Nickelback|[[TRYBLTX128F426B...|[[rock, 100], [al...|2011-08-02 00:55:...|           Savin' Me|TRBASRX12903C9FDA8|[rock, 100, alter...|\n",
      "|          Frankmusik|[[TRFVVHR128F9331...|[[electronic, 100...|2011-08-11 08:30:...|             In Step|TRBAZWU128F9331B4D|[electronic, 100,...|\n",
      "|         Bad Company|[[TRMQUSZ12903CF7...|[[classic rock, 1...|2011-08-08 23:14:...|         Rock Steady|TRBAVMF12903CEA4FB|[classic rock, 10...|\n",
      "+--------------------+--------------------+--------------------+--------------------+--------------------+------------------+--------------------+\n",
      "only showing top 20 rows\n",
      "\n"
     ]
    }
   ],
   "source": [
    "dataframe.show()"
   ]
  },
  {
   "cell_type": "code",
   "execution_count": 178,
   "metadata": {},
   "outputs": [
    {
     "data": {
      "text/plain": [
       "Row(new tags=['pop', '100', 'rock', '83', 'maroon 5', '78', 'alternative', '59', 'pop rock', '51', 'Love', '27', 'alternative rock', '18', 'she will be loved', '16', 'Ballad', '12', 'Mellow', '10', 'male vocalists', '10', '00s', '9', 'soft rock', '8', 'favorites', '8', 'romantic', '7', 'Maroon5', '7', 'chill', '7', 'american', '6', 'love songs', '6', 'indie', '6', 'beautiful', '6', 'chillout', '5', 'memories', '5', 'sad', '4', 'Pop-Rock', '3', 'acoustic', '3', 'Favorite', '3', 'love song', '3', 'Maroon 5 - She will be loved', '3', 'easy listening', '3', 'relax', '2', 'male vocalist', '2', 'Favourites', '2', 'favorite songs', '2', 'Maroon 5 She Will Be Loved', '2', 'funk', '2', '2004', '2', 'indie rock', '2', 'Sentimental', '2', 'loved', '1', 'slow', '1', 'One Tree Hill', '1', 'sweet', '1', 'ballads', '1', 'nostalgic', '1', 'catchy', '1', 'emo', '1', 'melancholic', '1', 'soft', '1', 'amazing', '1', 'cool', '1', 'Awesome', '1', 'top 40', '1', 'Good Stuff', '1', 'favourite', '1', 'guilty pleasure', '1', 'soul', '1', 'lovely', '1', 'West Coast swing', '1', 'singer-songwriter', '1', 'USA', '1', 'my youth', '1', 'maroon', '1', 'fav', '1', '2000s', '1', 'breaks my heart', '1', 'Guilty Pleasures', '1', 'good', '1', 'Love it', '1', 'falling asleep sadly', '1', 'melodic', '0', 'expressive', '0', 'america', '0', 'poprock', '0', 'adult contemporary', '0', 'Verbotene Liebe', '0', 'The 4400', '0', 'new', '0', 'sadness', '0', 'perfect', '0', '2002', '0', 'broken smile', '0', 'Favourite Songs', '0', 'melancholy', '0', 'zierkafasza', '0', 'smooth', '0', 'personal value', '0', 'sing along', '0', 'lounge', '0', 'anthem', '0', 'romance', '0', 'live', '0', 'great song', '0', 'lyrics', '0', 'jazz', '0', 'RockPop', '0', '4th grade', '0', 'scrobble', '0', 'usa mainstream top 40 number one hit', '0', 'alternative pop', '0'])"
      ]
     },
     "execution_count": 178,
     "metadata": {},
     "output_type": "execute_result"
    }
   ],
   "source": [
    "dataframe.select(\"new tags\").first()"
   ]
  },
  {
   "cell_type": "code",
   "execution_count": 179,
   "metadata": {},
   "outputs": [],
   "source": [
    "# Remove the numbers from the tags\n",
    "from pyspark.sql.functions import udf, col\n",
    "\n",
    "removeNumbers = udf(lambda lst: lst[0::2])\n",
    "\n",
    "dataFrame = dataframe.withColumn(\"only tags\", removeNumbers(col(\"new tags\")))"
   ]
  },
  {
   "cell_type": "code",
   "execution_count": 180,
   "metadata": {},
   "outputs": [
    {
     "name": "stderr",
     "output_type": "stream",
     "text": [
      "                                                                                \r"
     ]
    },
    {
     "data": {
      "text/plain": [
       "Row(only tags='[pop, rock, maroon 5, alternative, pop rock, Love, alternative rock, she will be loved, Ballad, Mellow, male vocalists, 00s, soft rock, favorites, romantic, Maroon5, chill, american, love songs, indie, beautiful, chillout, memories, sad, Pop-Rock, acoustic, Favorite, love song, Maroon 5 - She will be loved, easy listening, relax, male vocalist, Favourites, favorite songs, Maroon 5 She Will Be Loved, funk, 2004, indie rock, Sentimental, loved, slow, One Tree Hill, sweet, ballads, nostalgic, catchy, emo, melancholic, soft, amazing, cool, Awesome, top 40, Good Stuff, favourite, guilty pleasure, soul, lovely, West Coast swing, singer-songwriter, USA, my youth, maroon, fav, 2000s, breaks my heart, Guilty Pleasures, good, Love it, falling asleep sadly, melodic, expressive, america, poprock, adult contemporary, Verbotene Liebe, The 4400, new, sadness, perfect, 2002, broken smile, Favourite Songs, melancholy, zierkafasza, smooth, personal value, sing along, lounge, anthem, romance, live, great song, lyrics, jazz, RockPop, 4th grade, scrobble, usa mainstream top 40 number one hit, alternative pop]')"
      ]
     },
     "execution_count": 180,
     "metadata": {},
     "output_type": "execute_result"
    }
   ],
   "source": [
    "dataFrame.select(\"only tags\").first()"
   ]
  },
  {
   "cell_type": "code",
   "execution_count": 182,
   "metadata": {},
   "outputs": [],
   "source": [
    "dataFrame = dataFrame.drop(\"tags\", \"new tags\")"
   ]
  },
  {
   "cell_type": "code",
   "execution_count": 183,
   "metadata": {},
   "outputs": [
    {
     "name": "stdout",
     "output_type": "stream",
     "text": [
      "root\n",
      " |-- artist: string (nullable = true)\n",
      " |-- similars: array (nullable = true)\n",
      " |    |-- element: array (containsNull = true)\n",
      " |    |    |-- element: string (containsNull = true)\n",
      " |-- timestamp: string (nullable = true)\n",
      " |-- title: string (nullable = true)\n",
      " |-- track_id: string (nullable = true)\n",
      " |-- only tags: string (nullable = true)\n",
      "\n"
     ]
    }
   ],
   "source": [
    "dataFrame.printSchema()"
   ]
  },
  {
   "cell_type": "code",
   "execution_count": 184,
   "metadata": {},
   "outputs": [
    {
     "name": "stdout",
     "output_type": "stream",
     "text": [
      "+--------------------+--------------------+--------------------+--------------------+------------------+--------------------+\n",
      "|              artist|            similars|           timestamp|               title|          track_id|           only tags|\n",
      "+--------------------+--------------------+--------------------+--------------------+------------------+--------------------+\n",
      "|            Maroon 5|[[TRZHXFO128F9302...|2011-08-02 20:57:...|   She Will Be Loved|TRBAMHJ128F9302A08|[pop, rock, maroo...|\n",
      "|          Anita Ward|[[TRQCINT128F4245...|2011-08-15 12:34:...|        Ring My Bell|TRBASRX128F92E9CD1|[Disco, 70s, danc...|\n",
      "|Bill Haley and th...|[[TRISKEM128F427D...|2011-08-02 09:55:...|See You Later All...|TRBAJNU128F4260039|[oldies, rock n r...|\n",
      "|       Eddie Cochran|[[TRIEPQF128F9329...|2011-08-11 20:51:...|     C'mon Everybody|TRBAMXP128F92FC856|[rock n roll, 50s...|\n",
      "|          The Troggs|[[TRGQCBQ12903CBC...|2011-08-05 01:01:...|          Wild Thing|TRBAKTC128F93358D6|[60s, classic roc...|\n",
      "|Bill Medley & Jen...|[[TRZVLLV128F4288...|2011-08-12 08:57:...|(I've Had) The Ti...|TRBAOSL12903CA4519|[80s, Soundtrack,...|\n",
      "|           Aerosmith|[[TRITYXQ128E078E...|2011-08-01 09:53:...|   Janie's Got A Gun|TRBARHH128E078EDE9|[rock, classic ro...|\n",
      "|      Britney Spears|[[TRRTNCU128F92F1...|2011-08-03 04:33:...|Oops!...I Did It ...|TRBAUVN128F932FEF8|[pop, Britney Spe...|\n",
      "|             Cascada|[[TRABGIN128F14B0...|2011-08-02 13:58:...|  Truly Madly Deeply|TRBATIF128F149246C|[dance, pop, fema...|\n",
      "|    Billie Jo Spears|[[TRGLHUS128F4294...|2011-08-08 11:47:...|          Misty Blue|TRBALVT128F145B6CB|[country, oldies,...|\n",
      "|        Hall & Oates|[[TRBGGWQ128F42A8...|2011-08-10 02:56:...|  You Make My Dreams|TRBAYLZ128F933841B|[80s, pop, 500 Da...|\n",
      "|        Annie Lennox|[[TRGZFJY128F92EE...|2011-08-09 00:18:...|         Little Bird|TRBAFJQ128F4259FB5|[pop, female voca...|\n",
      "|     Whitney Houston|[[TRQIESP128F428C...|2011-08-01 17:54:...|Didn't We Almost ...|TRBAFNH128F428CB96|[pop, 80s, whitne...|\n",
      "|             Shakira|[[TRNQSMA128F427D...|2011-08-10 22:03:...|   Objection (Tango)|TRBAHID128F4278EAF|[pop, latin, Shak...|\n",
      "|           New Order|[[TRTDOCL128E0787...|2011-08-11 19:08:...|           Fine Time|TRBAELY128F92EB8F2|[80s, new wave, e...|\n",
      "|               Cream|[[TRGEBPX128E0792...|2011-08-05 07:12:...|      Wrapping Paper|TRBAMAL128F421431D|[classic rock, 60...|\n",
      "|         Cheap Trick|[[TRGZMGO128F4267...|2011-08-09 17:38:...|        Dream Police|TRBAMVV128F930B5A1|[classic rock, ro...|\n",
      "|          Nickelback|[[TRYBLTX128F426B...|2011-08-02 00:55:...|           Savin' Me|TRBASRX12903C9FDA8|[rock, alternativ...|\n",
      "|          Frankmusik|[[TRFVVHR128F9331...|2011-08-11 08:30:...|             In Step|TRBAZWU128F9331B4D|[electronic, danc...|\n",
      "|         Bad Company|[[TRMQUSZ12903CF7...|2011-08-08 23:14:...|         Rock Steady|TRBAVMF12903CEA4FB|[classic rock, ro...|\n",
      "+--------------------+--------------------+--------------------+--------------------+------------------+--------------------+\n",
      "only showing top 20 rows\n",
      "\n"
     ]
    }
   ],
   "source": [
    "dataFrame.show()"
   ]
  },
  {
   "cell_type": "code",
   "execution_count": 185,
   "metadata": {},
   "outputs": [
    {
     "name": "stderr",
     "output_type": "stream",
     "text": [
      "[Stage 124:====================================================>  (39 + 2) / 41]\r"
     ]
    },
    {
     "name": "stdout",
     "output_type": "stream",
     "text": [
      "+--------------------+-----+\n",
      "|           only tags|count|\n",
      "+--------------------+-----+\n",
      "|                  []|  602|\n",
      "|              [rock]|    4|\n",
      "|           [country]|    3|\n",
      "|             [blues]|    3|\n",
      "|         [grindcore]|    3|\n",
      "|               [pop]|    2|\n",
      "|         [dancehall]|    2|\n",
      "|            [reggae]|    2|\n",
      "|        [electronic]|    2|\n",
      "|              [jazz]|    2|\n",
      "|[indie rock, indi...|    1|\n",
      "|[blues rock, jam ...|    1|\n",
      "|[rock, new wave, ...|    1|\n",
      "|[electronic, danc...|    1|\n",
      "|[soul, Neo-Soul, ...|    1|\n",
      "|[trip-hop, electr...|    1|\n",
      "|[italian, female ...|    1|\n",
      "|[Hip-Hop, rap, hi...|    1|\n",
      "|[70s, other, pop,...|    1|\n",
      "|[80s, rock, Love,...|    1|\n",
      "+--------------------+-----+\n",
      "only showing top 20 rows\n",
      "\n"
     ]
    },
    {
     "name": "stderr",
     "output_type": "stream",
     "text": [
      "                                                                                \r"
     ]
    }
   ],
   "source": [
    "# Show the top 20 most frequent vehicle makers, and their frequencies.\n",
    "dataFrame.groupBy('only tags').count().sort(desc('count')).show()"
   ]
  },
  {
   "cell_type": "code",
   "execution_count": null,
   "metadata": {},
   "outputs": [],
   "source": []
  }
 ],
 "metadata": {
  "kernelspec": {
   "display_name": "Python 3 (ipykernel)",
   "language": "python",
   "name": "python3"
  },
  "language_info": {
   "codemirror_mode": {
    "name": "ipython",
    "version": 3
   },
   "file_extension": ".py",
   "mimetype": "text/x-python",
   "name": "python",
   "nbconvert_exporter": "python",
   "pygments_lexer": "ipython3",
   "version": "3.8.10"
  }
 },
 "nbformat": 4,
 "nbformat_minor": 4
}
