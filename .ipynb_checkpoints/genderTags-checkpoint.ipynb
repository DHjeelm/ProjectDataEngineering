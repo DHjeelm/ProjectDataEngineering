{
 "cells": [
  {
   "cell_type": "code",
   "execution_count": 1,
   "metadata": {},
   "outputs": [
    {
     "name": "stderr",
     "output_type": "stream",
     "text": [
      "Using Spark's default log4j profile: org/apache/spark/log4j-defaults.properties\n",
      "Setting default log level to \"WARN\".\n",
      "To adjust logging level use sc.setLogLevel(newLevel). For SparkR, use setLogLevel(newLevel).\n",
      "22/03/07 09:00:25 WARN NativeCodeLoader: Unable to load native-hadoop library for your platform... using builtin-java classes where applicable\n",
      "22/03/07 09:00:27 WARN ExecutorAllocationManager: Dynamic allocation without a shuffle service is an experimental feature.\n"
     ]
    }
   ],
   "source": [
    "from pyspark.sql import SparkSession\n",
    "from operator import add\n",
    "\n",
    "# New API\n",
    "spark_session = SparkSession\\\n",
    "        .builder\\\n",
    "        .master(\"spark://192.168.2.218:7077\") \\\n",
    "        .appName(\"Daniel_Hjelm_Test\")\\\n",
    "        .config(\"spark.executor.cores\",1)\\\n",
    "        .config(\"spark.dynamicAllocation.enabled\", True)\\\n",
    "        .config(\"spark.dynamicAllocation.shuffleTracking.enabled\", True)\\\n",
    "        .config(\"spark.shuffle.service.enabled\", False)\\\n",
    "        .config(\"spark.dynamicAllocation.executorIdleTimeout\",\"30s\")\\\n",
    "        .config(\"spark.driver.port\",9998)\\\n",
    "        .config(\"spark.blockManager.port\",10005)\\\n",
    "        .getOrCreate()\n",
    "\n",
    "spark_context = spark_session.sparkContext\n",
    "\n",
    "spark_context.setLogLevel(\"ERROR\")"
   ]
  },
  {
   "cell_type": "code",
   "execution_count": 2,
   "metadata": {},
   "outputs": [
    {
     "name": "stderr",
     "output_type": "stream",
     "text": [
      "                                                                                \r"
     ]
    }
   ],
   "source": [
    "# Read all the data\n",
    "data = spark_session.read.option(\"recursiveFileLookup\", \"true\").json('hdfs://192.168.2.200:9000/user/ubuntu/lastfm_train/B/A')\n",
    "\n",
    "# Read a small subset of data:\n",
    "#data = spark_session.read.json('hdfs://192.168.2.200:9000/user/ubuntu/lastfm_train/B/A/A/*.json')"
   ]
  },
  {
   "cell_type": "code",
   "execution_count": 3,
   "metadata": {},
   "outputs": [],
   "source": [
    "# Flatten the tags column\n",
    "from pyspark.sql.functions import flatten\n",
    "dataframe = data.withColumn(\"new tags\", flatten(data.tags))"
   ]
  },
  {
   "cell_type": "code",
   "execution_count": 4,
   "metadata": {},
   "outputs": [],
   "source": [
    "# Remove the numbers from the tags\n",
    "from pyspark.sql.types import ArrayType, StringType\n",
    "from pyspark.sql.functions import udf, col\n",
    "\n",
    "removeNumbers = udf(lambda lst: lst[0::2], ArrayType(StringType()))\n",
    "\n",
    "dataFrame = dataframe.withColumn(\"only tags\", removeNumbers(col(\"new tags\")))"
   ]
  },
  {
   "cell_type": "code",
   "execution_count": 5,
   "metadata": {},
   "outputs": [],
   "source": [
    "import re\n",
    "# Function for fetching the gender from the tags\n",
    "def genderTags(lst):\n",
    "    genderList = []\n",
    "    for element in lst:\n",
    "        if re.search(\"female|Female\", element) and \"female\" not in genderList:\n",
    "            genderList.append(\"female\")\n",
    "            continue\n",
    "        elif re.search(\"male|Male\", element) and \"male\" not in genderList:\n",
    "            genderList.append(\"male\")\n",
    "            continue\n",
    "        \n",
    "    return genderList\n",
    "\n",
    "# Create udf from the above function\n",
    "genderTagUDF = udf(genderTags, ArrayType(StringType()))\n",
    "\n",
    "# Create a new column representing wether a song has been tagged with \"female\", \"male\" or both\n",
    "dataframe = dataFrame.withColumn(\"Gender tag\", genderTagUDF(col(\"only tags\")))\n",
    "        "
   ]
  },
  {
   "cell_type": "code",
   "execution_count": 6,
   "metadata": {},
   "outputs": [],
   "source": [
    "# Create new dataframe with only the tags and the gender tag\n",
    "genderDataFrame = dataframe.select(\"only tags\", \"Gender tag\")"
   ]
  },
  {
   "cell_type": "code",
   "execution_count": 7,
   "metadata": {},
   "outputs": [],
   "source": [
    "# Explode the tags column\n",
    "from pyspark.sql.functions import explode\n",
    "genderDataFrame = genderDataFrame.select(genderDataFrame[\"Gender tag\"], explode(genderDataFrame[\"only tags\"]))\n",
    "genderDataFrame = genderDataFrame.withColumnRenamed(\"col\", \"Tag\")"
   ]
  },
  {
   "cell_type": "code",
   "execution_count": 8,
   "metadata": {},
   "outputs": [],
   "source": [
    "# Explode the gender tag column\n",
    "genderDataFrame = genderDataFrame.select(explode(genderDataFrame[\"Gender tag\"]), genderDataFrame[\"Tag\"])\n",
    "genderDataFrame = genderDataFrame.withColumnRenamed(\"col\", \"Gender\")"
   ]
  },
  {
   "cell_type": "code",
   "execution_count": 9,
   "metadata": {},
   "outputs": [
    {
     "name": "stderr",
     "output_type": "stream",
     "text": [
      "                                                                                \r"
     ]
    },
    {
     "name": "stdout",
     "output_type": "stream",
     "text": [
      "+-----------------+----------------+\n",
      "|              Tag|Frequency of tag|\n",
      "+-----------------+----------------+\n",
      "| female vocalists|              68|\n",
      "|              pop|              40|\n",
      "|             rock|              31|\n",
      "|  female vocalist|              31|\n",
      "|             Love|              24|\n",
      "|            dance|              22|\n",
      "|           female|              21|\n",
      "|              00s|              20|\n",
      "|       electronic|              18|\n",
      "|singer-songwriter|              17|\n",
      "|        beautiful|              16|\n",
      "|             soul|              16|\n",
      "|         chillout|              15|\n",
      "|      alternative|              14|\n",
      "|         american|              13|\n",
      "|              80s|              11|\n",
      "|        favorites|              11|\n",
      "|             folk|              10|\n",
      "|            chill|              10|\n",
      "|             jazz|              10|\n",
      "+-----------------+----------------+\n",
      "only showing top 20 rows\n",
      "\n"
     ]
    }
   ],
   "source": [
    "# Find the most frequent tags for \"female\"\n",
    "tagsFemale = genderDataFrame.select(\"Tag\").filter(genderDataFrame[\"Gender\"] == \"female\").groupBy(\"Tag\").agg({\"Tag\": \"count\"})\\\n",
    "        .withColumnRenamed(\"count(Tag)\",\"Frequency of tag\").orderBy(\"Frequency of tag\", ascending=False)\n",
    "\n",
    "tagsFemale.show()"
   ]
  },
  {
   "cell_type": "code",
   "execution_count": 10,
   "metadata": {},
   "outputs": [
    {
     "name": "stderr",
     "output_type": "stream",
     "text": [
      "[Stage 5:====================================================>    (38 + 3) / 41]\r"
     ]
    },
    {
     "name": "stdout",
     "output_type": "stream",
     "text": [
      "+-----------------+----------------+\n",
      "|              Tag|Frequency of tag|\n",
      "+-----------------+----------------+\n",
      "|             rock|              56|\n",
      "|              pop|              54|\n",
      "|   male vocalists|              42|\n",
      "|             Love|              41|\n",
      "| female vocalists|              38|\n",
      "|        favorites|              33|\n",
      "|      alternative|              32|\n",
      "|        beautiful|              32|\n",
      "|            dance|              27|\n",
      "|              00s|              26|\n",
      "|  female vocalist|              25|\n",
      "|singer-songwriter|              25|\n",
      "|          Awesome|              25|\n",
      "|            indie|              23|\n",
      "|         american|              22|\n",
      "|         chillout|              20|\n",
      "|           catchy|              19|\n",
      "|           female|              19|\n",
      "|       electronic|              19|\n",
      "|           oldies|              18|\n",
      "+-----------------+----------------+\n",
      "only showing top 20 rows\n",
      "\n"
     ]
    },
    {
     "name": "stderr",
     "output_type": "stream",
     "text": [
      "                                                                                \r"
     ]
    }
   ],
   "source": [
    "# Find the most frequent tags for \"male\"\n",
    "tagsMale = genderDataFrame.select(\"Tag\").filter(genderDataFrame[\"Gender\"] == \"male\").groupBy(\"Tag\").agg({\"Tag\": \"count\"})\\\n",
    "        .withColumnRenamed(\"count(Tag)\",\"Frequency of tag\").orderBy(\"Frequency of tag\", ascending=False)\n",
    "\n",
    "tagsMale.show()"
   ]
  },
  {
   "cell_type": "code",
   "execution_count": null,
   "metadata": {},
   "outputs": [],
   "source": []
  }
 ],
 "metadata": {
  "kernelspec": {
   "display_name": "Python 3 (ipykernel)",
   "language": "python",
   "name": "python3"
  },
  "language_info": {
   "codemirror_mode": {
    "name": "ipython",
    "version": 3
   },
   "file_extension": ".py",
   "mimetype": "text/x-python",
   "name": "python",
   "nbconvert_exporter": "python",
   "pygments_lexer": "ipython3",
   "version": "3.8.10"
  }
 },
 "nbformat": 4,
 "nbformat_minor": 4
}
