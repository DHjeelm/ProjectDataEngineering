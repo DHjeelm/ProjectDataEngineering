{
 "cells": [
  {
   "cell_type": "code",
   "execution_count": 57,
   "metadata": {},
   "outputs": [],
   "source": [
    "from pyspark.sql import SparkSession\n",
    "from operator import add\n",
    "\n",
    "# Spark session\n",
    "spark_session = SparkSession\\\n",
    "        .builder\\\n",
    "        .master(\"spark://192.168.2.218:7077\") \\\n",
    "        .appName(\"Song titles Manne\")\\\n",
    "        .config(\"spark.executor.cores\",1)\\\n",
    "        .config(\"spark.dynamicAllocation.enabled\", True)\\\n",
    "        .config(\"spark.dynamicAllocation.shuffleTracking.enabled\", True)\\\n",
    "        .config(\"spark.shuffle.service.enabled\", False)\\\n",
    "        .config(\"spark.dynamicAllocation.executorIdleTimeout\",\"30s\")\\\n",
    "        .config(\"spark.driver.port\",9998)\\\n",
    "        .config(\"spark.blockManager.port\",10005)\\\n",
    "        .getOrCreate()\n",
    "\n",
    "# Spark context\n",
    "spark_context = spark_session.sparkContext\n",
    "\n",
    "spark_context.setLogLevel(\"ERROR\")"
   ]
  },
  {
   "cell_type": "code",
   "execution_count": 58,
   "metadata": {},
   "outputs": [],
   "source": [
    "# Read the data\n",
    "data = spark_session.read.option(\"recursiveFileLookup\", \"true\").json('hdfs://192.168.2.200:9000/user/ubuntu/lastfm_train')\n"
   ]
  },
  {
   "cell_type": "code",
   "execution_count": null,
   "metadata": {},
   "outputs": [],
   "source": [
    "# Flatten the tags column\n",
    "from pyspark.sql.functions import flatten\n",
    "dataframe = data.withColumn(\"New tags\", flatten(data.tags))"
   ]
  },
  {
   "cell_type": "code",
   "execution_count": null,
   "metadata": {},
   "outputs": [],
   "source": [
    "# Remove the numbers from the tags (the numbers are every other element)\n",
    "from pyspark.sql.types import ArrayType, StringType\n",
    "from pyspark.sql.functions import udf, col\n",
    "\n",
    "removeNumbers = udf(lambda lst: lst[0::2], ArrayType(StringType()))\n",
    "\n",
    "dataFrame = dataframe.withColumn(\"Only tags\", removeNumbers(col(\"New tags\")))"
   ]
  },
  {
   "cell_type": "code",
   "execution_count": null,
   "metadata": {},
   "outputs": [],
   "source": [
    "import re\n",
    "# Function for determine if a song has been tagged with a tag including \"male\" or \"female\" or both\n",
    "def genderTags(lst):\n",
    "    genderList = []\n",
    "    for element in lst:\n",
    "        if re.search(\"female|Female\", element) and \"female\" not in genderList:\n",
    "            genderList.append(\"female\")\n",
    "            continue\n",
    "        elif re.search(\"male|Male\", element) and \"male\" not in genderList:\n",
    "            genderList.append(\"male\")\n",
    "            continue\n",
    "        \n",
    "    return genderList\n",
    "\n",
    "# Create udf from the above function\n",
    "genderTagUDF = udf(genderTags, ArrayType(StringType()))\n",
    "\n",
    "# Create a new column representing wether a song has been tagged with \"female\", \"male\" or both\n",
    "dataframe = dataFrame.withColumn(\"GenderTag\", genderTagUDF(col(\"Only tags\")))\n",
    "        "
   ]
  },
  {
   "cell_type": "code",
   "execution_count": null,
   "metadata": {},
   "outputs": [],
   "source": [
    "from pyspark.sql.functions import size\n",
    "maleTitles = dataframe.where(size(\"GenderTag\") == 1).filter(dataframe.GenderTag[0] == \"male\").select(\"title\")\n"
   ]
  },
  {
   "cell_type": "code",
   "execution_count": null,
   "metadata": {},
   "outputs": [],
   "source": [
    "femaleTitles = dataframe.where(size(\"GenderTag\") == 1).filter(dataframe.GenderTag[0] == \"female\").select(\"title\")\n"
   ]
  },
  {
   "cell_type": "code",
   "execution_count": null,
   "metadata": {},
   "outputs": [
    {
     "name": "stderr",
     "output_type": "stream",
     "text": [
      "                                                                                \r"
     ]
    },
    {
     "data": {
      "text/plain": [
       "[(203, 'the'),\n",
       " (91, 'a'),\n",
       " (85, 'you'),\n",
       " (73, 'i'),\n",
       " (73, 'in'),\n",
       " (66, 'me'),\n",
       " (63, 'of'),\n",
       " (62, 'love'),\n",
       " (55, 'to'),\n",
       " (52, 'on'),\n",
       " (50, 'my'),\n",
       " (38, 'your'),\n",
       " (37, 'it'),\n",
       " (33, 'for'),\n",
       " (30, 'and'),\n",
       " (26, 'be'),\n",
       " (21, \"don't\"),\n",
       " (20, 'is'),\n",
       " (20, 'all'),\n",
       " (20, 'with')]"
      ]
     },
     "execution_count": 55,
     "metadata": {},
     "output_type": "execute_result"
    }
   ],
   "source": [
    "wordsMale = maleTitles.rdd.flatMap(lambda word: word).map(lambda line: line.split(\" \")).flatMap(lambda x: x).map(lambda word: word.lower()).map(lambda word: (word, 1)).reduceByKey(add).map(lambda word: (word[1], word[0])).sortByKey(False)\n",
    "wordsMale.take(20)\n"
   ]
  },
  {
   "cell_type": "code",
   "execution_count": null,
   "metadata": {},
   "outputs": [
    {
     "name": "stderr",
     "output_type": "stream",
     "text": [
      "                                                                                \r"
     ]
    },
    {
     "data": {
      "text/plain": [
       "[(88, 'the'),\n",
       " (67, 'you'),\n",
       " (51, 'me'),\n",
       " (43, 'i'),\n",
       " (41, 'a'),\n",
       " (38, 'love'),\n",
       " (31, 'my'),\n",
       " (30, 'of'),\n",
       " (28, 'to'),\n",
       " (27, 'version)'),\n",
       " (26, 'in'),\n",
       " (26, 'it'),\n",
       " (23, 'on'),\n",
       " (21, 'is'),\n",
       " (18, \"don't\"),\n",
       " (18, 'one'),\n",
       " (17, 'your'),\n",
       " (16, 'and'),\n",
       " (13, '(album'),\n",
       " (13, 'up')]"
      ]
     },
     "execution_count": 56,
     "metadata": {},
     "output_type": "execute_result"
    }
   ],
   "source": [
    "wordsFemale = femaleTitles.rdd.flatMap(lambda word: word).map(lambda line: line.split(\" \")).flatMap(lambda x: x).map(lambda word: word.lower()).map(lambda word: (word, 1)).reduceByKey(add).map(lambda word: (word[1], word[0])).sortByKey(False)\n",
    "wordsFemale.take(20)"
   ]
  },
  {
   "cell_type": "code",
   "execution_count": null,
   "metadata": {},
   "outputs": [],
   "source": []
  }
 ],
 "metadata": {
  "kernelspec": {
   "display_name": "Python 3 (ipykernel)",
   "language": "python",
   "name": "python3"
  },
  "language_info": {
   "codemirror_mode": {
    "name": "ipython",
    "version": 3
   },
   "file_extension": ".py",
   "mimetype": "text/x-python",
   "name": "python",
   "nbconvert_exporter": "python",
   "pygments_lexer": "ipython3",
   "version": "3.8.10"
  }
 },
 "nbformat": 4,
 "nbformat_minor": 4
}
